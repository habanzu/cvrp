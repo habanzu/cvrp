{
 "cells": [
  {
   "cell_type": "markdown",
   "id": "e6ab45c1",
   "metadata": {},
   "source": [
    "# Labelling Algorithm\n",
    "The intention of this notebook is, to learn how to use C Code in Python and with that knowledge implement a labelling algorithm for the CVRP in C."
   ]
  },
  {
   "cell_type": "markdown",
   "id": "12dc7a60",
   "metadata": {},
   "source": [
    "## CFFI Tutorial\n",
    "https://medium.com/@torbengraebergt/c-c-and-python-class-interfacing-f45a9ee352f4"
   ]
  },
  {
   "cell_type": "code",
   "execution_count": 1,
   "id": "808f546c",
   "metadata": {},
   "outputs": [],
   "source": [
    "from cffi import FFI\n",
    "\n",
    "dllURI = \"labelling_lib.so\"\n",
    "\n",
    "ffi = FFI()\n",
    "labelling_lib = ffi.dlopen(dllURI)\n",
    "\n",
    "funDefs = \"void initGraph(unsigned num_nodes, unsigned* node_data, double* edge_data, const double capacity); void labelling(double const * dual,const bool farkas, unsigned* result);\"\n",
    "ffi.cdef(funDefs, override=True)"
   ]
  },
  {
   "cell_type": "markdown",
   "id": "76afe31e",
   "metadata": {},
   "source": [
    "## Passing a Graph to the C Code"
   ]
  },
  {
   "cell_type": "code",
   "execution_count": 2,
   "id": "52d35b41",
   "metadata": {},
   "outputs": [],
   "source": [
    "import networkx as nx\n",
    "import random\n",
    "import numpy as np"
   ]
  },
  {
   "cell_type": "code",
   "execution_count": 3,
   "id": "dd1f3058",
   "metadata": {},
   "outputs": [],
   "source": [
    "G = nx.complete_graph(10)\n",
    "for (u,v) in G.edges():\n",
    "    G.edges[u,v]['weight'] = random.randint(1,10)\n",
    "    \n",
    "# G.edges()[7,9]['weight'] = 100\n",
    "for node in G.nodes():\n",
    "    G.nodes()[node]['demand'] = random.randint(1,10)"
   ]
  },
  {
   "cell_type": "code",
   "execution_count": 4,
   "id": "2d647ee8",
   "metadata": {},
   "outputs": [
    {
     "name": "stderr",
     "output_type": "stream",
     "text": [
      "/var/folders/tv/pzvp6rwx029b6p4rgqv2cx0h0000gn/T/ipykernel_9656/3769196214.py:5: FutureWarning: adjacency_matrix will return a scipy.sparse array instead of a matrix in Networkx 3.0.\n",
      "  edges = nx.adjacency_matrix(G,dtype=np.double).toarray()\n"
     ]
    }
   ],
   "source": [
    "node_data = list(nx.get_node_attributes(G,\"demand\").values())\n",
    "\n",
    "nodes_arr = ffi.cast(\"unsigned*\", np.array(node_data).astype(np.uintc).ctypes.data)\n",
    "# TODO: Extract raw matrix from G and pass it to initGraph\n",
    "edges = nx.adjacency_matrix(G,dtype=np.double).toarray()\n",
    "edges_arr = ffi.cast(\"double*\", edges.ctypes.data)\n",
    "num_nodes = ffi.cast(\"unsigned\",G.number_of_nodes())\n",
    "\n",
    "capacity = 30\n",
    "capacity_ptr = ffi.cast(\"double\",capacity)\n",
    "\n",
    "result = np.zeros(capacity + 2,dtype=np.uintc)\n",
    "result_arr = ffi.cast(\"unsigned*\",result.ctypes.data)\n",
    "\n"
   ]
  },
  {
   "cell_type": "code",
   "execution_count": 8,
   "id": "88770947",
   "metadata": {},
   "outputs": [
    {
     "name": "stdout",
     "output_type": "stream",
     "text": [
      "[0 8 3 8 9 0 0 0 0 0 0 0 0 0 0 0 0 0 0 0 0 0 0 0 0 0 0 0 0 0 0 0]Graph data successfully copied to C.\n",
      "\n",
      "Found Path with negative reduced cost\n",
      "Current label is 8 and pred is 3\n",
      "Current label is 3 and pred is 8\n",
      "Current label is 8 and pred is 5\n"
     ]
    }
   ],
   "source": [
    "labelling_lib.initGraph(num_nodes,nodes_arr,edges_arr, capacity_ptr)\n",
    "\n",
    "dual = np.array(range(10)).astype(np.double)\n",
    "dual = np.full(10,1.8,dtype=np.double)\n",
    "pointer_dual = ffi.cast(\"double*\", dual.ctypes.data)\n",
    "\n",
    "labelling_lib.labelling(pointer_dual, True,result_arr)\n",
    "\n",
    "print(result)\n"
   ]
  }
 ],
 "metadata": {
  "kernelspec": {
   "display_name": "Python 3 (ipykernel)",
   "language": "python",
   "name": "python3"
  },
  "language_info": {
   "codemirror_mode": {
    "name": "ipython",
    "version": 3
   },
   "file_extension": ".py",
   "mimetype": "text/x-python",
   "name": "python",
   "nbconvert_exporter": "python",
   "pygments_lexer": "ipython3",
   "version": "3.10.4"
  }
 },
 "nbformat": 4,
 "nbformat_minor": 5
}
