{
 "cells": [
  {
   "cell_type": "markdown",
   "id": "e6ab45c1",
   "metadata": {},
   "source": [
    "# Labelling Algorithm\n",
    "The intention of this notebook is, to learn how to use C Code in Python and with that knowledge implement a labelling algorithm for the CVRP in C."
   ]
  },
  {
   "cell_type": "markdown",
   "id": "12dc7a60",
   "metadata": {},
   "source": [
    "## CFFI Tutorial\n",
    "https://medium.com/@torbengraebergt/c-c-and-python-class-interfacing-f45a9ee352f4"
   ]
  },
  {
   "cell_type": "code",
   "execution_count": 9,
   "id": "808f546c",
   "metadata": {},
   "outputs": [],
   "source": [
    "from cffi import FFI\n",
    "\n",
    "dllURI = \"cpp_lib.so\"\n",
    "funDef = \"unsigned int myProcessorInit(int exp_in, int size_in);\"\n",
    "\n",
    "ffi = FFI()\n",
    "cpp_lib = ffi.dlopen(dllURI)\n",
    "ffi.cdef(funDef)\n",
    "\n",
    "# result = c_lib.myProcessorInit(2,10)"
   ]
  },
  {
   "cell_type": "code",
   "execution_count": 12,
   "id": "01a58fca",
   "metadata": {},
   "outputs": [],
   "source": [
    "def extract_function_def(headerFileURI):\n",
    "    funDef = ''\n",
    "    with open(headerFileURI) as headerFile:\n",
    "        hf = headerFile.read()\n",
    "        idxLo = hf.find(r'extern \"C\" {')\n",
    "        idxHi = hf.find('} //end extern \"C\"')\n",
    "        while (idxLo>0 and idxHi>0):\n",
    "            tmp = hf[idxLo+12:idxHi]\n",
    "            if \"#\" not in tmp:\n",
    "                funDef += tmp\n",
    "            hf = hf[idxHi+18:]\n",
    "            idxLo = hf.find(r'extern \"C\" {')\n",
    "            idxHi = hf.find('} //end extern \"C\"')\n",
    "    return funDef\n",
    "\n",
    "\n",
    "def ensure_folder_or_file(fileURI):\n",
    "    if not os.path.isdir(fileURI) and not os.path.isfile(fileURI):\n",
    "        raise OSError(\"Target does not exist.\\nSearched for: \" + fileURI + \"\\n\")\n",
    "        \n",
    "functionDefinitions = \"unsigned int myProcessorInit(int exp_in, int size_in);\\n    int myProcessorProcess(unsigned int id, double *d, int size);\"\n",
    "ffi.cdef(functionDefinitions, override=True)"
   ]
  },
  {
   "cell_type": "code",
   "execution_count": 29,
   "id": "33845866",
   "metadata": {},
   "outputs": [],
   "source": [
    "class myProcessor():\n",
    "\n",
    "    def __init__(self, exp, size):\n",
    "        self.id = cpp_lib.myProcessorInit(exp, size)\n",
    "\n",
    "    def process(self, data, size):\n",
    "        data = ensure_np_type(data, 'float64')\n",
    "        pointer_to_data = get_pointer_to_np_arr(data, \"double*\", ffi)\n",
    "        \n",
    "        ret = cpp_lib.myProcessorProcess(self.id, pointer_to_data, size)\n",
    "        if ret<0:\n",
    "            raise ValueError(\"Sth bad happened in c++ code\")\n",
    "        else:\n",
    "            return data"
   ]
  },
  {
   "cell_type": "code",
   "execution_count": 30,
   "id": "4f1bf94c",
   "metadata": {},
   "outputs": [],
   "source": [
    "import numpy as np\n",
    "\n",
    "def ensure_np_type(arr, target_type):\n",
    "    if arr.dtype is not np.dtype(target_type):\n",
    "        return arr.astype(np.dtype(target_type))\n",
    "    else:\n",
    "        return arr\n",
    "\n",
    "def get_pointer_to_np_arr(arr, ctype, ffi):\n",
    "    return ffi.cast(ctype, arr.ctypes.data)"
   ]
  },
  {
   "cell_type": "code",
   "execution_count": 31,
   "id": "bad4df5b",
   "metadata": {},
   "outputs": [
    {
     "data": {
      "text/plain": [
       "array([ 0.,  1.,  4.,  9., 16., 25., 36., 49., 64., 81.])"
      ]
     },
     "execution_count": 31,
     "metadata": {},
     "output_type": "execute_result"
    }
   ],
   "source": [
    "processor = myProcessor(2,10)\n",
    "data = np.arange(10)\n",
    "processor.process(data,10)"
   ]
  }
 ],
 "metadata": {
  "kernelspec": {
   "display_name": "Python 3 (ipykernel)",
   "language": "python",
   "name": "python3"
  },
  "language_info": {
   "codemirror_mode": {
    "name": "ipython",
    "version": 3
   },
   "file_extension": ".py",
   "mimetype": "text/x-python",
   "name": "python",
   "nbconvert_exporter": "python",
   "pygments_lexer": "ipython3",
   "version": "3.10.4"
  }
 },
 "nbformat": 4,
 "nbformat_minor": 5
}
