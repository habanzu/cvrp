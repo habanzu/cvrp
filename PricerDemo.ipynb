{
 "cells": [
  {
   "cell_type": "markdown",
   "id": "e82ced93",
   "metadata": {},
   "source": [
    "# Pricer Demo\n",
    "This notebook serves the purpose of understanding the example file found at https://github.com/scipopt/PySCIPOpt/blob/use-probdata-to-store-model/tests/test_coloring.py"
   ]
  },
  {
   "cell_type": "markdown",
   "id": "79cb50b7",
   "metadata": {},
   "source": [
    "I guess this is the idea of everything:\n",
    "The formulation is:  $$\\min{\\sum_{s \\in S} x_s :  \\sum_{s \\in S: u \\in s} x_s \\geq 1 \\text{ for all } u \\in V}$$\n",
    "where G = (V,E) is the graph we want to color, S is the set of *all* maximal stable sets (i.e. independent sets)\n",
    "(i.e. subsets of node of V which are not neighbors) (BTW, N(u) will denote the neighborhood of u)\n",
    "$x_s$ is a binary variable and $x_s = 1$ means that all $u \\in s$ receive the same color and $x_s = 0$ means nothing.\n",
    "\n",
    "###### NOTE 0:\n",
    "if $ x_s = 1$ and $x_s' = 1$, then they actually receive different colors, hence minimizing $\\min\\sum_{s \\in S} x_s$\n",
    "minimizes the number of colors. If a node is associated to two colors, I guess one can choose any (?)"
   ]
  },
  {
   "cell_type": "markdown",
   "id": "06ee0d62",
   "metadata": {},
   "source": [
    "Of course S is huge, so column generation.\n",
    "Given the current master with stable sets $S'$:\n",
    "- if it is infeasible (pricerfarkas): for each node u such that $u \\notin s \\forall s \\in S'$ (this is the only way\n",
    "for the LP to be infeasible), we find a maximal stable set in G which containt u and add it to $S'$\n",
    "- if it is feasible (the pricing problem) (pricerredcost): given $\\pi$, the dual solution, we solve\n",
    "  $\\max\\{ \\pi s : s\\text{ is a stable set of G }\\}$ and if it is larger than 1, we add s to S'\n",
    "\n",
    "###### NOTE 1:\n",
    "It seems that networkx doesn't provide functionality to solve the maximum weight independent set\n",
    "        so we handle this by finding *all* independent sets and then dot product each of them with \\pi and\n",
    "        select the maximum :-) (by them it is meant their indicator vector)"
   ]
  },
  {
   "cell_type": "markdown",
   "id": "46f0c59d",
   "metadata": {},
   "source": [
    "### TODO: Ab hier lesen\n",
    "At some point we will have to branch. Now, given a fractional solution of master, consider $s \\in S'\n",
    "$ such that\n",
    "$x_s$ is fractional. Its fractionality (i.e. $x_s < 1$) and feasibility implies that for every $u \\in s$, there is\n",
    "$s'$ (sorry for the $s'$ and $S'$) such that $u \\in s'$ (and $x_s' > 0$). Also, sin both are maximal, then one *cannot*\n",
    "be a subset of the other, which implies that there is $w \\in V$ such that $w$ is in $s$ or $s'$, *but not* in both.\n",
    "Hence, branching on \"u and w have the same color\" and \"u and w have different colors\" will:\n",
    "- remove the current LP solution: Suppose s is the one that contains u and w (then s' contains only u). In the\n",
    "  branch where SAME(u,w) (this means what it is suppose to mean), x_s' *has* to be 0 (and a lot of other guys, but\n",
    "  that is beside the point).\n",
    "  In the branch DIFF(u,w), now x_s *has* to be 0 (also a lot of other guys, but still beside the point)\n",
    "  NOTE: this other guys thing is imposed in the propagation of the constraints which enforces the SAME and DIFF\n",
    "- not remove any feasible solution: there are two types of coloring in the world, the ones in which u and w have\n",
    "  the same color, and the ones in which u and w have different color\n",
    "\n",
    "###### NOTE 2:\n",
    "since u and w are in the same stable set (s or s'), then they are *not* neighbors. So imposing that they\n",
    "        are different doesn't produce an infeasible subproblem (not sure why this note is important)\n",
    "\n",
    "###### NOTE 3: \n",
    "the beauty of the branching rule is that both subproblems are of the same kind of problem as the original one,\n",
    "        just on a different graph"
   ]
  },
  {
   "cell_type": "markdown",
   "id": "07e4ad36",
   "metadata": {},
   "source": [
    "Enforcing DIFF(u,w) amounts to add an edge between u and w, while enforcing\n",
    "SAME(u,w) amounts to merge node u and w (i.e. create new node {u,w} (yes, the name is very unfortunate) and if\n",
    "e = {v,u} or e = {v,w} existed in the original graph, then e = {v, {u,w}} exists in the \"merged\" graph)\n",
    "The devil is in the details:\n",
    "- Every node in the tree will have its own graph.\n",
    "- Enforcing DIFF(u,w), in practice, means adding the edge *and* setting to 0 all x_s such that s contains both\n",
    "  u and w (since such an x_s being equal to 1, means both variable have the same color; see NOTE 0).\n",
    "  The edge will prevent the pricing problem to generate stable sets which contains both u and w\n",
    "- Enforcing SAME(u,w), in practice, is a mess. One idea, as done in the C code, is to add enough edges so that\n",
    "  N(u) = N(w). This is enough to ensure that every maximal stable set will either, have both, u and w or none of\n",
    "  them. [A small proof: let s be a maximal stable set, if u \\notin s, then there is v \\in N(u) such that v \\in s\n",
    "  (otherwise, u could be added to s contradicting its maximality). Since v \\in N(u) = N(w), then w cannot be in s]\n",
    "  We use a different (hopefuly, more elegant; though I guess less efficient... but did we talk already about the\n",
    "  brute force way of finding maximum weight independent sets?) approach here. We construct a \"quotient graph\", i.e.,\n",
    "  a graph whose nodes are equivalence classes. The equivalence classes are the subsets of nodes which are equal (yes,\n",
    "  we have been talking about enforcing that only u and w have to be equal, but imagine yourself now deep in the tree).\n",
    "\n",
    "######   NOTE: \n",
    "We only use the quotient graph to search for stable sets. Once a stable set in the quotient graph is generated,\n",
    "        we have to map it to a stable set of the original graph (where actually the constraints live), but this simple.\n",
    "  Appart from that, we also have to set to 0 all x_s such that s contains u or w but not both.\n",
    "###### NOTE 4:\n",
    "the operations that enforce SAME and DIFF *preserve* maximal stable sets. So if we only add variables associated\n",
    "        to maximal stable sets, then in every node of the tree the (valid) stable sets are going to be maximal"
   ]
  },
  {
   "cell_type": "markdown",
   "id": "0c611fd9",
   "metadata": {},
   "source": [
    "More details:\n",
    "- We use a constraint handler to store the graph of each node. Given the graph of the parent node, generating the graphs\n",
    "  of both childs, DIFF and SAME is done as follows:\n",
    "  - DIFF(u,w): just add the corresponding edgea e={u,w}\n",
    "  - SAME(u,w): build a new quotient graph, from the original graph. Let G be the original graph and H the parent's graph.\n",
    "    Note that H is already a quotient graph of G. The equivalence relation used over the nodes to generate the child's graph\n",
    "    is: node1 R node2 if and only if (node1 == u and node2 == w) or [node1]_H == [node2]_H\n",
    "    where [v]_H is the equivalence class of v in H ([node1]_H == [node2]_H tests whether node1 and node2 are the same node in H)\n",
    "- The graph that needs to be colored is given in some file. This graph gets pre-processed (see the C file for documentation)\n",
    "  The \"original graph\" is the pre-processed graph.\n",
    "END"
   ]
  },
  {
   "cell_type": "code",
   "execution_count": 2,
   "id": "3de619e5",
   "metadata": {},
   "outputs": [
    {
     "ename": "ModuleNotFoundError",
     "evalue": "No module named 'pytest'",
     "output_type": "error",
     "traceback": [
      "\u001b[0;31m---------------------------------------------------------------------------\u001b[0m",
      "\u001b[0;31mModuleNotFoundError\u001b[0m                       Traceback (most recent call last)",
      "Input \u001b[0;32mIn [2]\u001b[0m, in \u001b[0;36m<cell line: 1>\u001b[0;34m()\u001b[0m\n\u001b[1;32m      1\u001b[0m \u001b[38;5;28;01mtry\u001b[39;00m:\n\u001b[0;32m----> 2\u001b[0m     \u001b[38;5;28;01mimport\u001b[39;00m \u001b[38;5;21;01mnetworkx\u001b[39;00m\n\u001b[1;32m      3\u001b[0m     \u001b[38;5;28;01mimport\u001b[39;00m \u001b[38;5;21;01msys\u001b[39;00m\n",
      "\u001b[0;31mModuleNotFoundError\u001b[0m: No module named 'networkx'",
      "\nDuring handling of the above exception, another exception occurred:\n",
      "\u001b[0;31mModuleNotFoundError\u001b[0m                       Traceback (most recent call last)",
      "Input \u001b[0;32mIn [2]\u001b[0m, in \u001b[0;36m<cell line: 1>\u001b[0;34m()\u001b[0m\n\u001b[1;32m     10\u001b[0m     leaving \u001b[38;5;241m=\u001b[39m \u001b[38;5;28;01mlambda\u001b[39;00m: \u001b[38;5;28mprint\u001b[39m(\u001b[38;5;124m\"\u001b[39m\u001b[38;5;124mOUT \u001b[39m\u001b[38;5;124m\"\u001b[39m, inspect\u001b[38;5;241m.\u001b[39mstack()[\u001b[38;5;241m1\u001b[39m][\u001b[38;5;241m3\u001b[39m]) \u001b[38;5;66;03m# debugging magic\u001b[39;00m\n\u001b[1;32m     11\u001b[0m \u001b[38;5;28;01mexcept\u001b[39;00m:\n\u001b[0;32m---> 12\u001b[0m     \u001b[38;5;28;01mimport\u001b[39;00m \u001b[38;5;21;01mpytest\u001b[39;00m\n\u001b[1;32m     13\u001b[0m     pytest\u001b[38;5;241m.\u001b[39mskip()\n",
      "\u001b[0;31mModuleNotFoundError\u001b[0m: No module named 'pytest'"
     ]
    }
   ],
   "source": [
    "try:\n",
    "    import networkx\n",
    "    import sys\n",
    "    from networkx.algorithms.approximation import max_clique\n",
    "    from pyscipopt import Model, Variable, Branchrule, Conshdlr, Pricer, SCIP_RESULT, SCIP_PARAMEMPHASIS, SCIP_PARAMSETTING\n",
    "    from types import SimpleNamespace\n",
    "    import matplotlib.pyplot as plt\n",
    "    import inspect\n",
    "    entering = lambda: print(\"IN \", inspect.stack()[1][3]) # debugging magic\n",
    "    leaving = lambda: print(\"OUT \", inspect.stack()[1][3]) # debugging magic\n",
    "except:\n",
    "    import pytest\n",
    "    pytest.skip()"
   ]
  },
  {
   "cell_type": "code",
   "execution_count": null,
   "id": "36e4d504",
   "metadata": {},
   "outputs": [],
   "source": []
  }
 ],
 "metadata": {
  "kernelspec": {
   "display_name": "Python 3 (ipykernel)",
   "language": "python",
   "name": "python3"
  },
  "language_info": {
   "codemirror_mode": {
    "name": "ipython",
    "version": 3
   },
   "file_extension": ".py",
   "mimetype": "text/x-python",
   "name": "python",
   "nbconvert_exporter": "python",
   "pygments_lexer": "ipython3",
   "version": "3.10.4"
  }
 },
 "nbformat": 4,
 "nbformat_minor": 5
}
