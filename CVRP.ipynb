{
 "cells": [
  {
   "cell_type": "markdown",
   "id": "7c43126c",
   "metadata": {},
   "source": [
    "# CVRP Notebook\n",
    "This notebook is intended to run the top level code for the CVRP"
   ]
  },
  {
   "cell_type": "code",
   "execution_count": 1,
   "id": "9e9d4907",
   "metadata": {},
   "outputs": [],
   "source": [
    "import networkx as nx\n",
    "\n",
    "from model import VRP, create_constraints, output_variables\n",
    "from pricer import VRPPricer\n",
    "from parse import parse"
   ]
  },
  {
   "cell_type": "code",
   "execution_count": 2,
   "id": "3687bde9",
   "metadata": {},
   "outputs": [
    {
     "name": "stdout",
     "output_type": "stream",
     "text": [
      "PARSE: Minimum number of trucks is 4\n"
     ]
    }
   ],
   "source": [
    "# Test instance E-n22-k4 provided by parser\n",
    "G = parse(\"Instances/E/E-n22-k4.vrp\")\n",
    "# G = parse(\"Instances/E/E-n23-k3.vrp\")\n",
    "# G = parse(\"Instances/E/E-n30-k3.vrp\")\n",
    "# G = parse(\"Instances/E/E-n33-k4.vrp\")\n",
    "# G = parse(\"Instances/E/E-n51-k5.vrp\")\n",
    "# G = parse(\"Instances/E/E-n76-k14.vrp\")"
   ]
  },
  {
   "cell_type": "code",
   "execution_count": null,
   "id": "cacdf560",
   "metadata": {},
   "outputs": [
    {
     "name": "stdout",
     "output_type": "stream",
     "text": [
      "PRICER_PY: The maximal path length is 32\n",
      "PRICER_C: Graph data successfully copied to C.\n",
      "presolving:\n",
      "presolving (1 rounds: 1 fast, 1 medium, 1 exhaustive):\n",
      " 0 deleted vars, 0 deleted constraints, 0 added constraints, 0 tightened bounds, 0 added holes, 0 changed sides, 0 changed coefficients\n",
      " 0 implications, 0 cliques\n",
      "presolved problem has 21 variables (0 bin, 0 int, 0 impl, 21 cont) and 22 constraints\n",
      "     22 constraints of type <linear>\n",
      "Presolving Time: 0.00\n",
      "\n",
      "PY PRICING: Found 1660 paths with reduced cost\n",
      " time | node  | left  |LP iter|LP it/n|mem/heur|mdpt |vars |cons |rows |cuts |sepa|confs|strbr|  dualbound   | primalbound  |  gap   | compl. \n",
      "  0.4s|     1 |     0 |    54 |     - |  7333k |   0 |1681 |  22 |  22 |   0 |  0 |   0 |   0 |      --      |      --      |    Inf | unknown\n",
      "PY PRICING: Found 10001 paths with reduced cost\n"
     ]
    }
   ],
   "source": [
    "model = VRP(G)\n",
    "\n",
    "# Create pricer\n",
    "pricer = VRPPricer()\n",
    "pricer.init_data(G)\n",
    "pricer.data['elementary'] = True\n",
    "pricer.data['abort_early'] = True\n",
    "\n",
    "model.includePricer(pricer, \"pricer\",\"does pricing\")\n",
    "\n",
    "create_constraints(model,G)\n",
    "\n",
    "# model.hideOutput()\n",
    "model.optimize()\n",
    "model.hideOutput(quiet=False)\n",
    "# model.printBestSol()"
   ]
  },
  {
   "cell_type": "code",
   "execution_count": 7,
   "id": "260e74ce",
   "metadata": {},
   "outputs": [
    {
     "name": "stdout",
     "output_type": "stream",
     "text": [
      "\n",
      "\n",
      "The solution contains the following paths: \n",
      "0.25 * x4888: (0, 9, 5, 7, 5, 9, 0)\n",
      "0.5 * x4903: (0, 13, 11, 13, 16, 0)\n",
      "0.125 * x4909: (0, 5, 7, 5, 7, 0)\n",
      "0.125 * x5044: (0, 16, 14, 16, 0)\n",
      "0.2500000000000001 * x5072: (0, 11, 4, 3, 4, 11, 0)\n",
      "0.16666666666666666 * x5075: (0, 14, 21, 19, 21, 20, 0)\n",
      "0.16666666666666663 * x5087: (0, 17, 21, 19, 21, 17, 0)\n",
      "0.1333333333333333 * x5151: (0, 15, 18, 20, 18, 15, 0)\n",
      "0.125 * x5177: (0, 14, 16, 14, 16, 14, 0)\n",
      "0.6666666666666667 * x5236: (0, 12, 15, 18, 20, 17, 0)\n",
      "0.22222222222222215 * x5271: (0, 10, 8, 3, 4, 3, 4, 3, 8, 0)\n",
      "0.25 * x5275: (0, 9, 7, 5, 7, 9, 12, 0)\n",
      "0.33333333333333337 * x5277: (0, 14, 19, 21, 19, 0)\n",
      "0.19444444444444436 * x5293: (0, 10, 6, 2, 1, 2, 1, 6, 10, 0)\n",
      "0.16666666666666677 * x5294: (0, 10, 8, 6, 2, 1, 2, 1, 6, 8, 10, 0)\n"
     ]
    }
   ],
   "source": [
    "output_variables(model, pricer)"
   ]
  }
 ],
 "metadata": {
  "kernelspec": {
   "display_name": "Python 3 (ipykernel)",
   "language": "python",
   "name": "python3"
  },
  "language_info": {
   "codemirror_mode": {
    "name": "ipython",
    "version": 3
   },
   "file_extension": ".py",
   "mimetype": "text/x-python",
   "name": "python",
   "nbconvert_exporter": "python",
   "pygments_lexer": "ipython3",
   "version": "3.10.4"
  }
 },
 "nbformat": 4,
 "nbformat_minor": 5
}
