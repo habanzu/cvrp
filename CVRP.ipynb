{
 "cells": [
  {
   "cell_type": "markdown",
   "id": "7c43126c",
   "metadata": {},
   "source": [
    "# CVRP Notebook\n",
    "This notebook is intended to run the top level code for the CVRP"
   ]
  },
  {
   "cell_type": "code",
   "execution_count": 1,
   "id": "cafa2469",
   "metadata": {},
   "outputs": [],
   "source": [
    "import networkx as nx\n",
    "\n",
    "from model import VRP, create_constraints, output_variables\n",
    "from pricer import VRPPricer\n",
    "from parse import parse\n",
    "\n",
    "from matplotlib import pyplot as plt"
   ]
  },
  {
   "cell_type": "code",
   "execution_count": 2,
   "id": "3687bde9",
   "metadata": {},
   "outputs": [
    {
     "name": "stdout",
     "output_type": "stream",
     "text": [
      "PARSE: Minimum number of trucks is 14\n"
     ]
    }
   ],
   "source": [
    "# Test instance E-n22-k4 provided by parser\n",
    "# G = parse(\"Instances/E/E-n22-k4.vrp\")\n",
    "# G = parse(\"Instances/E/E-n23-k3.vrp\")\n",
    "# G = parse(\"Instances/E/E-n30-k3.vrp\")\n",
    "# G = parse(\"Instances/E/E-n33-k4.vrp\")\n",
    "# G = parse(\"Instances/E/E-n51-k5.vrp\")\n",
    "G = parse(\"Instances/E/E-n76-k14.vrp\")\n",
    "# G = parse(\"Instances/E/E-n101-k14.vrp\")\n",
    "# G = parse(\"Instances/Uchoa/X-n101-k25.vrp\")\n",
    "# G.graph['min_trucks'] = 26\n",
    "# G = parse(\"Instances/Uchoa/X-n256-k16.vrp\")\n",
    "# G.graph['min_trucks'] = 16\n",
    "# G = parse(\"Instances/Uchoa/X-n129-k18.vrp\")\n",
    "# G.graph['min_trucks'] = 18"
   ]
  },
  {
   "cell_type": "code",
   "execution_count": null,
   "id": "f4eb1c4f",
   "metadata": {},
   "outputs": [
    {
     "name": "stdout",
     "output_type": "stream",
     "text": [
      "PRICER_PY: The maximal path length is 52\n",
      "PY PRICING: The neighborhood has been fixed to 8 neighbors.\n",
      "PRICER_C: Graph data successfully copied to C.\n",
      "presolving:\n",
      "presolving (1 rounds: 1 fast, 1 medium, 1 exhaustive):\n",
      " 0 deleted vars, 0 deleted constraints, 0 added constraints, 0 tightened bounds, 0 added holes, 0 changed sides, 0 changed coefficients\n",
      " 0 implications, 0 cliques\n",
      "presolved problem has 89 variables (0 bin, 0 int, 0 impl, 89 cont) and 76 constraints\n",
      "     76 constraints of type <linear>\n",
      "Presolving Time: 0.00\n",
      "\n",
      " time | node  | left  |LP iter|LP it/n|mem/heur|mdpt |vars |cons |rows |cuts |sepa|confs|strbr|  dualbound   | primalbound  |  gap   | compl. \n",
      "* 0.0s|     1 |     0 |    31 |     - |    LP  |   0 |  89 |  76 |  76 |   0 |  0 |   0 |   0 |      --      | 1.021000e+03 |    Inf | unknown\n",
      "  2.5s|     1 |     0 |    75 |     - |    21M |   0 |6890 |  76 |  76 |   0 |  0 |   0 |   0 |-1.849000e+03 | 1.021000e+03 |    Inf | unknown\n"
     ]
    }
   ],
   "source": [
    "model = VRP(G)\n",
    "\n",
    "# Create pricer\n",
    "pricer = VRPPricer()\n",
    "pricer.init_data(G)\n",
    "pricer.data['methods'] = [\"ng8\",\"cyc2\",\"SPPRC\"]\n",
    "pricer.data['max_vars']= 10000\n",
    "pricer.data['abort_early'] = False\n",
    "\n",
    "model.includePricer(pricer, \"pricer\",\"does pricing\")\n",
    "\n",
    "create_constraints(model,G,heuristic_flag=True)\n",
    "\n",
    "# model.hideOutput()\n",
    "model.optimize()\n",
    "model.hideOutput(quiet=False)"
   ]
  },
  {
   "cell_type": "code",
   "execution_count": null,
   "id": "a6056c39",
   "metadata": {},
   "outputs": [],
   "source": [
    "plt.figure(figsize=(18,6))\n",
    "xmax = 0\n",
    "for method in pricer.data['methods']:\n",
    "    upper_bounds = [x for x,y in pricer.data['bounds'][method]]\n",
    "    lower_bounds = [y for x,y in pricer.data['bounds'][method]]\n",
    "    plt.plot(upper_bounds, label=f'{method} UB')\n",
    "    plt.plot(lower_bounds, label=f'{method} LB')\n",
    "    if upper_bounds[0] > xmax:\n",
    "        xmax = upper_bounds[0]\n",
    "plt.ylim((-xmax/10,xmax*1.1))\n",
    "\n",
    "T = nx.minimum_spanning_tree(G)\n",
    "mst = T.size(weight='weight') + min(G.edges().data('weight'),key=lambda edge: edge[2])[2]\n",
    "mst = [mst for i in range(len(upper_bounds))]\n",
    "plt.plot(mst, label=\"MST Bound\")\n",
    "\n",
    "solval = model.getObjVal()\n",
    "sol = [solval for i in range(len(upper_bounds))]\n",
    "plt.plot(sol,label=\"Solution value\")\n",
    "\n",
    "plt.legend(loc='upper right')\n",
    "\n",
    "plt.show()"
   ]
  },
  {
   "cell_type": "code",
   "execution_count": null,
   "id": "6d6a6ae1",
   "metadata": {},
   "outputs": [],
   "source": [
    "output_variables(model, pricer)"
   ]
  }
 ],
 "metadata": {
  "kernelspec": {
   "display_name": "Python 3 (ipykernel)",
   "language": "python",
   "name": "python3"
  },
  "language_info": {
   "codemirror_mode": {
    "name": "ipython",
    "version": 3
   },
   "file_extension": ".py",
   "mimetype": "text/x-python",
   "name": "python",
   "nbconvert_exporter": "python",
   "pygments_lexer": "ipython3",
   "version": "3.10.4"
  }
 },
 "nbformat": 4,
 "nbformat_minor": 5
}
