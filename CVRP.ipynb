{
 "cells": [
  {
   "cell_type": "markdown",
   "id": "7c43126c",
   "metadata": {},
   "source": [
    "# VRP Demo with SCIP\n",
    "This file is intended to build the model for the CVRP using SCIP"
   ]
  },
  {
   "cell_type": "code",
   "execution_count": 2,
   "id": "0581b310",
   "metadata": {},
   "outputs": [],
   "source": [
    "from pyscipopt import Model, Pricer, SCIP_RESULT, SCIP_STAGE\n",
    "import warnings\n",
    "warnings.simplefilter(action='ignore', category=FutureWarning)\n",
    "import networkx as nx\n",
    "import matplotlib.pyplot as plt\n",
    "import numpy as np\n",
    "import sys, math, random\n",
    "\n",
    "from parse import parse\n",
    "\n",
    "from cffi import FFI\n",
    "ffi = FFI()\n",
    "labelling_lib = ffi.dlopen(\"Labelling/labelling_lib.so\")\n",
    "\n",
    "funDefs = \"void initGraph(unsigned num_nodes, unsigned* node_data, double* edge_data, const double capacity, const unsigned max_path_len); unsigned labelling(double const * dual, const bool farkas, const bool elementary, const unsigned long max_vars, unsigned* result);\"\n",
    "ffi.cdef(funDefs, override=True)"
   ]
  },
  {
   "cell_type": "code",
   "execution_count": 3,
   "id": "49176d48",
   "metadata": {},
   "outputs": [],
   "source": [
    "# Create Graph\n",
    "G = nx.complete_graph(10)\n",
    "for (u, v) in G.edges():\n",
    "    G.edges[u,v]['weight'] = random.randint(1,10)\n",
    "    \n",
    "for node in G.nodes():\n",
    "    G.nodes()[node]['demand'] = random.randint(1,10)\n",
    "\n",
    "G.graph['capacity'] = 20\n",
    "# nx.draw(G)"
   ]
  },
  {
   "cell_type": "code",
   "execution_count": 4,
   "id": "4910b577",
   "metadata": {},
   "outputs": [],
   "source": [
    "# Create Simple Graph for correctnes\n",
    "G = nx.complete_graph(4)\n",
    "for (u, v) in G.edges():\n",
    "    G.edges[u,v]['weight'] = 1\n",
    "G.edges[1,2]['weight'] = 1\n",
    "\n",
    "for node in G.nodes():\n",
    "    G.nodes()[node]['demand'] = 2\n",
    "\n",
    "G.graph['capacity'] = 4\n",
    "# nx.draw(G,with_labels=True)"
   ]
  },
  {
   "cell_type": "code",
   "execution_count": 5,
   "id": "3687bde9",
   "metadata": {},
   "outputs": [
    {
     "name": "stdout",
     "output_type": "stream",
     "text": [
      "PARSE: Minimum number of trucks is 3\n"
     ]
    }
   ],
   "source": [
    "# Test instance E-n22-k4 provided by parser\n",
    "# G = parse(\"Instances/E/E-n22-k4.vrp\")\n",
    "G = parse(\"Instances/E/E-n23-k3.vrp\")"
   ]
  },
  {
   "cell_type": "code",
   "execution_count": 6,
   "id": "cecb8bce",
   "metadata": {},
   "outputs": [],
   "source": [
    "class VRP(Model):\n",
    "    def __init__(self,graph):\n",
    "        super().__init__()\n",
    "        \n",
    "        self.original_graph = graph\n",
    "        self.graph = graph.copy()\n",
    "        self.vars = {}\n",
    "        self.cons = []"
   ]
  },
  {
   "cell_type": "code",
   "execution_count": 7,
   "id": "301a64fa",
   "metadata": {},
   "outputs": [],
   "source": [
    "class VRPPricer(Pricer): \n",
    "    def pricerinit(self):\n",
    "        self.data['cons'] = [self.model.getTransformedCons(con) for con in self.model.cons]\n",
    "        self.data['vars'] = {path:self.model.getTransformedVar(var) for (path,var) in self.model.vars.items()}\n",
    "        \n",
    "#         print(f\" There are {len(self.model.getConss())} constraints in the model and {len(self.data['cons'])} of them are known to the pricer.\")\n",
    "        \n",
    "        demands = list(nx.get_node_attributes(self.model.graph,\"demand\").values())\n",
    "        if not np.all(np.array(demands[1:])):\n",
    "           print(\"PRICER_PY: The demands of all nodes must be > 0.\")\n",
    "#         print(f\"PRICER_PY: The demands are {node_data}\")\n",
    "        nodes_arr = ffi.cast(\"unsigned*\", np.array(demands).astype(np.uintc).ctypes.data)\n",
    "        \n",
    "        minimal_demands = sum(sorted(demands[1:])[:2])\n",
    "        \n",
    "        self.data['max_path_len'] = math.ceil(2*self.data['capacity'] / minimal_demands) + 2\n",
    "        print(f\"PRICER_PY: The maximal path length is {self.data['max_path_len']}\")\n",
    "    \n",
    "        edges = nx.adjacency_matrix(self.model.graph,dtype=np.double).toarray()\n",
    "        edges_arr = ffi.cast(\"double*\", edges.ctypes.data)\n",
    "        \n",
    "        num_nodes = ffi.cast(\"unsigned\",self.model.graph.number_of_nodes())\n",
    "        \n",
    "        capacity_ptr = ffi.cast(\"double\",self.data['capacity'])\n",
    "        labelling_lib.initGraph(num_nodes,nodes_arr,edges_arr, capacity_ptr, self.data['max_path_len'])\n",
    "    \n",
    "    def pricerfarkas(self):\n",
    "        dual = [self.model.getDualfarkasLinear(con) for con in self.data['cons']]\n",
    "#         print(f\"PRICER_PY: Farkas Values are {dual}\")\n",
    "        return self.labelling(dual, farkas=True)\n",
    "\n",
    "    def pricerredcost(self):\n",
    "        dual = [self.model.getDualsolLinear(con) for con in self.data['cons']]\n",
    "#         print(f\"PRICER_PY: Dual variables are {dual}\")\n",
    "        return self.labelling(dual)\n",
    "    \n",
    "    def labelling(self, dual,farkas=False, elementary=True, max_vars=100):\n",
    "        pointer_dual = ffi.cast(\"double*\", np.array(dual,dtype=np.double).ctypes.data)\n",
    "        \n",
    "        # TODO: Possible improvement: result can be reused every time\n",
    "\n",
    "        result = np.zeros(max_vars*self.data['max_path_len'] ,dtype=np.uintc)\n",
    "        result_arr = ffi.cast(\"unsigned*\",result.ctypes.data)\n",
    "        \n",
    "        num_paths = labelling_lib.labelling(pointer_dual, farkas, elementary, max_vars, result_arr)\n",
    "        print(f\"PY PRICING: Found {num_paths} paths with reduced cost\")\n",
    "        \n",
    "        if(num_paths == 0):\n",
    "            print(\"There are no paths with negative reduced costs\")\n",
    "            return {'result':SCIP_RESULT.SUCCESS}\n",
    "        for i in range(min(num_paths,max_vars)):\n",
    "            single_result = result[i*self.data['max_path_len']:(i+1)*self.data['max_path_len']]\n",
    "            result_indices = np.insert(np.nonzero(single_result),0,0)\n",
    "            result_indices = np.append(result_indices,0)\n",
    "            path = tuple(single_result[result_indices])\n",
    "#             print(f\"Found path {path}\")\n",
    "            if path in self.data['vars'].keys():\n",
    "                cost = self.model.getVarRedcost(self.data['vars'][path])\n",
    "                if farkas:\n",
    "                    print(f\"PY Farkaspricing: Path already exists. | {path}\")\n",
    "                else:\n",
    "                    print(f\"PY Pricing: Path already exists. Reduced Cost {cost:.2f} | {path}\")\n",
    "                return {'result':SCIP_RESULT.SUCCESS}\n",
    "        \n",
    "            var = self.model.addVar(vtype=\"C\",obj=nx.path_weight(self.model.graph,path,\"weight\"),pricedVar=True)\n",
    "            weight = nx.path_weight(self.model.graph,path,\"weight\")\n",
    "        \n",
    "            counts = np.unique(path[1:-1], return_counts=True)\n",
    "            for i, node in enumerate(counts[0]):\n",
    "                self.model.addConsCoeff(self.data['cons'][node-1], var ,counts[1][i])\n",
    "\n",
    "            self.model.addConsCoeff(self.data['cons'][-1], var, 1)\n",
    "            self.data['vars'][tuple(path)] = var\n",
    "        \n",
    "        return {'result':SCIP_RESULT.SUCCESS}"
   ]
  },
  {
   "cell_type": "code",
   "execution_count": null,
   "id": "cacdf560",
   "metadata": {},
   "outputs": [
    {
     "name": "stdout",
     "output_type": "stream",
     "text": [
      "There number of vehicles is 3\n",
      "PRICER_PY: The maximal path length is 69\n",
      "PRICER_C: Graph data successfully copied to C.\n",
      "presolving:\n",
      "presolving (1 rounds: 1 fast, 1 medium, 1 exhaustive):\n",
      " 0 deleted vars, 0 deleted constraints, 0 added constraints, 0 tightened bounds, 0 added holes, 0 changed sides, 0 changed coefficients\n",
      " 0 implications, 0 cliques\n",
      "presolved problem has 22 variables (0 bin, 0 int, 0 impl, 22 cont) and 23 constraints\n",
      "     23 constraints of type <linear>\n",
      "Presolving Time: 0.00\n",
      "\n",
      "PY PRICING: Found 5 paths with reduced cost\n",
      " time | node  | left  |LP iter|LP it/n|mem/heur|mdpt |vars |cons |rows |cuts |sepa|confs|strbr|  dualbound   | primalbound  |  gap   | compl. \n",
      "  0.0s|     1 |     0 |    16 |     - |   697k |   0 |  27 |  23 |  23 |   0 |  0 |   0 |   0 |      --      |      --      |    Inf | unknown\n",
      "PY PRICING: Found 12 paths with reduced cost\n"
     ]
    }
   ],
   "source": [
    "model = VRP(G)\n",
    "num_vehicles = G.graph['min_trucks']\n",
    "print(f\"MODEL BUILDER: There number of vehicles is {num_vehicles}\")\n",
    "\n",
    "# Create pricer\n",
    "pricer = VRPPricer()\n",
    "pricer.data = {}\n",
    "pricer.data[\"capacity\"] = G.graph['capacity']\n",
    "pricer.data[\"num_vehicles\"] = num_vehicles\n",
    "model.includePricer(pricer, \"pricer\",\"does pricing\")\n",
    "\n",
    "# Create a valid set of variables and the constraints to it\n",
    "for i in range(1,G.number_of_nodes()):\n",
    "    #TODO: I should check, whether these paths are indeed feasible.\n",
    "    path = (0,i,0)\n",
    "    cost = nx.path_weight(G,path,\"weight\")\n",
    "#     print(f\"Do these costs make sense? {cost}\")\n",
    "    var = model.addVar(vtype=\"C\",obj=cost)\n",
    "    model.vars[path] = var\n",
    "    cons = model.addCons(var == 1, name=f\"node_{i}\",modifiable=True)\n",
    "    model.cons.append(cons)\n",
    "    \n",
    "# Add the convexity constraint, which limits the number of available vehicles\n",
    "convexity_constraint = model.addCons(sum(model.vars.values()) <= num_vehicles, modifiable=True)\n",
    "model.cons.append(convexity_constraint)\n",
    "\n",
    "# model.hideOutput()\n",
    "model.optimize()\n",
    "model.hideOutput(quiet=False)\n",
    "# model.printBestSol()\n",
    "sol = model.getBestSol()\n",
    "\n",
    "# Flushing should probably prevent the console output from SCIP mix up with the following print\n",
    "sys.stdout.flush()\n",
    "print(\"\\n\\nThe solution contains the following paths: \")\n",
    "for path, var in pricer.data['vars'].items():\n",
    "    if sol[var] > 0.1:\n",
    "        print(f\"{sol[var]} * {var}: {path}\")"
   ]
  }
 ],
 "metadata": {
  "kernelspec": {
   "display_name": "Python 3 (ipykernel)",
   "language": "python",
   "name": "python3"
  },
  "language_info": {
   "codemirror_mode": {
    "name": "ipython",
    "version": 3
   },
   "file_extension": ".py",
   "mimetype": "text/x-python",
   "name": "python",
   "nbconvert_exporter": "python",
   "pygments_lexer": "ipython3",
   "version": "3.10.4"
  }
 },
 "nbformat": 4,
 "nbformat_minor": 5
}
