{
 "cells": [
  {
   "cell_type": "markdown",
   "id": "7c43126c",
   "metadata": {},
   "source": [
    "# CVRP Notebook\n",
    "This notebook is intended to run the top level code for the CVRP"
   ]
  },
  {
   "cell_type": "code",
   "execution_count": 1,
   "id": "cafa2469",
   "metadata": {},
   "outputs": [],
   "source": [
    "import networkx as nx\n",
    "\n",
    "from model import VRP, create_constraints, output_variables, create_example_2\n",
    "from pricer import VRPPricer\n",
    "from parse import parse\n",
    "\n",
    "from matplotlib import pyplot as plt\n",
    "import matplotlib\n",
    "matplotlib.use(\"pgf\")\n",
    "matplotlib.rcParams.update({\n",
    "    \"pgf.texsystem\": \"pdflatex\",\n",
    "    'font.family': 'serif',\n",
    "    'text.usetex': True,\n",
    "    'pgf.rcfonts': False,\n",
    "})"
   ]
  },
  {
   "cell_type": "code",
   "execution_count": 2,
   "id": "3687bde9",
   "metadata": {},
   "outputs": [
    {
     "name": "stdout",
     "output_type": "stream",
     "text": [
      "PARSE: Minimum number of trucks is 4\n"
     ]
    }
   ],
   "source": [
    "G = parse(\"Instances/E/E-n22-k4.vrp\")\n",
    "# G = parse(\"Instances/E/E-n23-k3.vrp\")\n",
    "# G = parse(\"Instances/E/E-n30-k3.vrp\")\n",
    "# G = parse(\"Instances/E/E-n33-k4.vrp\")\n",
    "# G = parse(\"Instances/E/E-n51-k5.vrp\")\n",
    "# G = parse(\"Instances/E/E-n76-k14.vrp\")\n",
    "# G = parse(\"Instances/E/E-n101-k14.vrp\")\n",
    "# G = parse(\"Instances/Uchoa/X-n101-k25.vrp\")\n",
    "# G.graph['min_trucks'] = 26\n",
    "# G = parse(\"Instances/Uchoa/X-n106-k14.vrp\")\n",
    "# G.graph['min_trucks'] = 14\n",
    "# G = parse(\"Instances/Uchoa/X-n110-k13.vrp\")\n",
    "# G.graph['min_trucks'] = 13\n",
    "# G = parse(\"Instances/Uchoa/X-n115-k10.vrp\")\n",
    "# G.graph['min_trucks'] = 10\n",
    "# G = parse(\"Instances/Uchoa/X-n120-k6.vrp\")\n",
    "# G.graph['min_trucks'] = 6\n",
    "# G = parse(\"Instances/Uchoa/X-n125-k30.vrp\")\n",
    "# G.graph['min_trucks'] = 30\n",
    "# G = parse(\"Instances/Uchoa/X-n129-k18.vrp\")\n",
    "# G.graph['min_trucks'] = 18\n",
    "# G = parse(\"Instances/Uchoa/X-n200-k36.vrp\")\n",
    "# G.graph['min_trucks'] = 36\n",
    "# G = parse(\"Instances/Uchoa/X-n228-k23.vrp\")\n",
    "# G.graph['min_trucks'] = 23\n",
    "# G = parse(\"Instances/Uchoa/X-n251-k28.vrp\")\n",
    "# G.graph['min_trucks'] = 28\n",
    "# G = parse(\"Instances/Uchoa/X-n256-k16.vrp\")\n",
    "# G.graph['min_trucks'] = 16\n",
    "# G = parse(\"Instances/Uchoa/X-n289-k60.vrp\")\n",
    "# G.graph['min_trucks'] = 61\n",
    "# G = parse(\"Instances/Uchoa/X-n502-k39.vrp\")\n",
    "# G.graph['min_trucks'] = 39 #TODO: Ist dieses K auch das K, einer Optimallösung?"
   ]
  },
  {
   "cell_type": "code",
   "execution_count": 3,
   "id": "f4eb1c4f",
   "metadata": {},
   "outputs": [
    {
     "name": "stdout",
     "output_type": "stream",
     "text": [
      "HYGESE: Found Solution with value 375.0\n",
      "PRICER_PY: The maximal path length is 32\n",
      "PY PRICING: The neighborhood has been fixed to 8 neighbors.\n",
      "PRICER_C: Graph data successfully copied to C.\n",
      "presolving:\n",
      "presolving (1 rounds: 1 fast, 1 medium, 1 exhaustive):\n",
      " 0 deleted vars, 0 deleted constraints, 0 added constraints, 0 tightened bounds, 0 added holes, 0 changed sides, 0 changed coefficients\n",
      " 0 implications, 0 cliques\n",
      "presolved problem has 25 variables (0 bin, 0 int, 0 impl, 25 cont) and 22 constraints\n",
      "     22 constraints of type <linear>\n",
      "Presolving Time: 0.00\n",
      "\n",
      " time | node  | left  |LP iter|LP it/n|mem/heur|mdpt |vars |cons |rows |cuts |sepa|confs|strbr|  dualbound   | primalbound  |  gap   | compl. \n",
      "* 0.0s|     1 |     0 |    10 |     - |    LP  |   0 |  25 |  22 |  22 |   0 |  0 |   0 |   0 |      --      | 3.750000e+02 |    Inf | unknown\n",
      "CSPY: Found elementary path (0, 3, 1, 2, 12, 15, 14, 0) with cost -118.0\n",
      "PRICER_PY: Labelling found path with cost -125.0\n",
      "  1.4s|     1 |     0 |    44 |     - |  5711k |   0 |1536 |  22 |  22 |   0 |  0 |   0 |   0 |      --      | 3.750000e+02 |    Inf | unknown\n",
      "CSPY: Found elementary path (0, 9, 7, 6, 3, 11, 13, 14, 0) with cost -55.99999999999997\n",
      "PRICER_PY: Labelling found path with cost -55.99999999999994\n",
      "CSPY: Found elementary path (0, 10, 8, 4, 3, 1, 2, 7, 9, 0) with cost -18.632653061224488\n",
      "PRICER_PY: Labelling found path with cost -18.632653061224488\n",
      "CSPY: Found elementary path (0, 14, 16, 13, 11, 0) with cost -7.666666666666611\n",
      "PRICER_PY: Labelling found path with cost -9.333333333333258\n",
      "r 5.6s|     1 |     0 |   134 |     - |simplero|   0 |4753 |  22 |  22 |   0 |  0 |   0 |   0 |      --      | 3.742083e+02 |    Inf | unknown\n",
      "CSPY: Found elementary path (0, 12, 15, 18, 20, 21, 0) with cost -4.000000000000007\n",
      "PRICER_PY: Labelling found path with cost -4.000000000000014\n",
      "r 6.2s|     1 |     0 |   139 |     - |simplero|   0 |4758 |  22 |  22 |   0 |  0 |   0 |   0 |      --      | 3.737083e+02 |    Inf | unknown\n",
      "CSPY: Found elementary path (0, 12, 15, 18, 20, 17, 0) with cost -2.4868995751603507e-14\n",
      "  6.8s|     1 |     0 |   139 |     - |    15M |   0 |4758 |  22 |  22 |   0 |  0 |   0 |   0 | 3.737083e+02 | 3.737083e+02 |   0.00%| unknown\n",
      "  6.8s|     1 |     0 |   139 |     - |    15M |   0 |4758 |  22 |  22 |   0 |  0 |   0 |   0 | 3.737083e+02 | 3.737083e+02 |   0.00%| unknown\n",
      "\n",
      "SCIP Status        : problem is solved [optimal solution found]\n",
      "Solving Time (sec) : 6.82\n",
      "Solving Nodes      : 1\n",
      "Primal Bound       : +3.73708333333333e+02 (3 solutions)\n",
      "Dual Bound         : +3.73708333333333e+02\n",
      "Gap                : 0.00 %\n"
     ]
    }
   ],
   "source": [
    "model = VRP(G)\n",
    "\n",
    "# Create pricer\n",
    "pricer = VRPPricer()\n",
    "pricer.init_data(G)\n",
    "pricer.data['methods'] = [\"ESPPRC\"]\n",
    "pricer.data['max_vars']= 10000\n",
    "pricer.data['time_limit'] = 10\n",
    "pricer.data['farley'] = False\n",
    "\n",
    "model.includePricer(pricer, \"pricer\",\"does pricing\")\n",
    "\n",
    "create_constraints(model,G,heuristic_time=1)\n",
    "\n",
    "model.optimize()\n",
    "model.hideOutput(quiet=False)"
   ]
  },
  {
   "cell_type": "code",
   "execution_count": 6,
   "id": "a6056c39",
   "metadata": {
    "scrolled": true
   },
   "outputs": [
    {
     "data": {
      "text/plain": [
       "Text(0, 0.5, 'Solution value')"
      ]
     },
     "execution_count": 6,
     "metadata": {},
     "output_type": "execute_result"
    }
   ],
   "source": [
    "# This value is the exact pagewidth of latex\n",
    "plt.figure(figsize=(6.6,4),dpi=100)\n",
    "\n",
    "upper_bounds = [x for x,y in pricer.data['bounds'][pricer.data['methods'][0]]]\n",
    "plt.plot(upper_bounds, label=\"LP value\")\n",
    "\n",
    "xmax = 0\n",
    "for method in pricer.data['methods']:\n",
    "    lower_bounds = [y for x,y in pricer.data['bounds'][method]]\n",
    "    plt.plot(lower_bounds, label=f'{method} LB')\n",
    "    xmax = max(upper_bounds[0],xmax)\n",
    "\n",
    "T = nx.minimum_spanning_tree(G)\n",
    "mst = T.size(weight='weight') + min(G.edges().data('weight'),key=lambda edge: edge[2])[2]\n",
    "mst = [mst for i in range(len(upper_bounds))]\n",
    "plt.plot(mst, label=\"MST Bound\")\n",
    "\n",
    "# optimal = [534 for i in range(len(upper_bounds))]\n",
    "# plt.plot(optimal, label=\"Optimal Integer Solution\")\n",
    "\n",
    "# spprc = [445 for i in range(len(upper_bounds))]\n",
    "# plt.plot(spprc, label=\"Optimal value of the SPPRC.\")\n",
    "\n",
    "# ng8 = [481 for i in range(len(upper_bounds))]\n",
    "# plt.plot(ng8, label=\"Optimal value of ng 8.\")\n",
    "\n",
    "# cyc2 = [464.2 for i in range(len(upper_bounds))]\n",
    "# plt.plot(cyc2, label=\"Optimal value of 2-cycle Elimination.\")\n",
    "\n",
    "if pricer.data['farley']:\n",
    "    farley_bounds = pricer.data['farley_bound']\n",
    "    plt.plot(farley_bounds, label=\"Farley Bound\")\n",
    "\n",
    "solval = model.getObjVal()\n",
    "sol = [solval for i in range(len(upper_bounds))]\n",
    "plt.plot(sol,label=\"Final solution value\")\n",
    "\n",
    "plt.ylim((mst[0]*0.9,xmax*1.1))\n",
    "\n",
    "plt.legend(loc='upper left')\n",
    "plt.xlabel(\"Number of Labelling iterations.\")\n",
    "plt.ylabel(\"Solution value\")\n",
    "# plt.savefig(\"plots/E-n30-k3.espprc.pgf\")\n",
    "# plt.show()"
   ]
  },
  {
   "cell_type": "code",
   "execution_count": null,
   "id": "6d6a6ae1",
   "metadata": {
    "scrolled": true
   },
   "outputs": [],
   "source": [
    "output_variables(model, pricer)"
   ]
  }
 ],
 "metadata": {
  "kernelspec": {
   "display_name": "Python 3 (ipykernel)",
   "language": "python",
   "name": "python3"
  },
  "language_info": {
   "codemirror_mode": {
    "name": "ipython",
    "version": 3
   },
   "file_extension": ".py",
   "mimetype": "text/x-python",
   "name": "python",
   "nbconvert_exporter": "python",
   "pygments_lexer": "ipython3",
   "version": "3.10.4"
  }
 },
 "nbformat": 4,
 "nbformat_minor": 5
}
