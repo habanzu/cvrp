{
 "cells": [
  {
   "cell_type": "markdown",
   "id": "7c43126c",
   "metadata": {},
   "source": [
    "# CVRP Notebook\n",
    "This notebook is intended to run the top level code for the CVRP"
   ]
  },
  {
   "cell_type": "code",
   "execution_count": 1,
   "id": "cafa2469",
   "metadata": {},
   "outputs": [],
   "source": [
    "import networkx as nx\n",
    "\n",
    "from model import VRP, create_constraints, output_variables, create_example_2\n",
    "from pricer import VRPPricer\n",
    "from parse import parse\n",
    "\n",
    "from matplotlib import pyplot as plt\n",
    "import matplotlib\n",
    "# matplotlib.use(\"pgf\")\n",
    "# matplotlib.rcParams.update({\n",
    "#     \"pgf.texsystem\": \"pdflatex\",\n",
    "#     'font.family': 'serif',\n",
    "#     'text.usetex': True,\n",
    "#     'pgf.rcfonts': False,\n",
    "# })"
   ]
  },
  {
   "cell_type": "code",
   "execution_count": 2,
   "id": "3687bde9",
   "metadata": {},
   "outputs": [
    {
     "name": "stdout",
     "output_type": "stream",
     "text": [
      "PARSE: Minimum number of trucks is 3\n"
     ]
    }
   ],
   "source": [
    "# G = parse(\"Instances/E/E-n22-k4.vrp\")\n",
    "G = parse(\"Instances/E/E-n23-k3.vrp\")\n",
    "# G = parse(\"Instances/E/E-n30-k3.vrp\")\n",
    "# G = parse(\"Instances/E/E-n33-k4.vrp\")\n",
    "# G = parse(\"Instances/E/E-n51-k5.vrp\")\n",
    "# G = parse(\"Instances/E/E-n76-k14.vrp\")\n",
    "# G = parse(\"Instances/E/E-n101-k14.vrp\")\n",
    "# G = parse(\"Instances/Uchoa/X-n101-k25.vrp\")\n",
    "# G.graph['min_trucks'] = 26\n",
    "# G = parse(\"Instances/Uchoa/X-n106-k14.vrp\")\n",
    "# G.graph['min_trucks'] = 14\n",
    "# G = parse(\"Instances/Uchoa/X-n110-k13.vrp\")\n",
    "# G.graph['min_trucks'] = 13\n",
    "# G = parse(\"Instances/Uchoa/X-n115-k10.vrp\")\n",
    "# G.graph['min_trucks'] = 10\n",
    "# G = parse(\"Instances/Uchoa/X-n120-k6.vrp\")\n",
    "# G.graph['min_trucks'] = 6\n",
    "# G = parse(\"Instances/Uchoa/X-n125-k30.vrp\")\n",
    "# G.graph['min_trucks'] = 30\n",
    "# G = parse(\"Instances/Uchoa/X-n129-k18.vrp\")\n",
    "# G.graph['min_trucks'] = 18\n",
    "# G = parse(\"Instances/Uchoa/X-n200-k36.vrp\")\n",
    "# G.graph['min_trucks'] = 36\n",
    "# G = parse(\"Instances/Uchoa/X-n228-k23.vrp\")\n",
    "# G.graph['min_trucks'] = 23\n",
    "# G = parse(\"Instances/Uchoa/X-n251-k28.vrp\")\n",
    "# G.graph['min_trucks'] = 28\n",
    "# G = parse(\"Instances/Uchoa/X-n256-k16.vrp\")\n",
    "# G.graph['min_trucks'] = 16\n",
    "# G = parse(\"Instances/Uchoa/X-n289-k60.vrp\")\n",
    "# G.graph['min_trucks'] = 61\n",
    "# G = parse(\"Instances/Uchoa/X-n502-k39.vrp\")\n",
    "# G.graph['min_trucks'] = 39 #TODO: Ist dieses K auch das K, einer Optimallösung?"
   ]
  },
  {
   "cell_type": "code",
   "execution_count": null,
   "id": "f4eb1c4f",
   "metadata": {},
   "outputs": [
    {
     "name": "stdout",
     "output_type": "stream",
     "text": [
      "HYGESE: Found Solution with value 569.0\n",
      "PRICER_PY: The maximal path length is 69\n",
      "PY PRICING: The neighborhood has been fixed to 8 neighbors.\n",
      "PRICER_C: Graph data successfully copied to C.\n",
      "presolving:\n",
      "presolving (1 rounds: 1 fast, 1 medium, 1 exhaustive):\n",
      " 0 deleted vars, 0 deleted constraints, 0 added constraints, 0 tightened bounds, 0 added holes, 0 changed sides, 0 changed coefficients\n",
      " 0 implications, 0 cliques\n",
      "presolved problem has 25 variables (0 bin, 0 int, 0 impl, 25 cont) and 23 constraints\n",
      "     23 constraints of type <linear>\n",
      "Presolving Time: 0.00\n",
      "\n",
      " time | node  | left  |LP iter|LP it/n|mem/heur|mdpt |vars |cons |rows |cuts |sepa|confs|strbr|  dualbound   | primalbound  |  gap   | compl. \n",
      "* 0.1s|     1 |     0 |     8 |     - |    LP  |   0 |  25 |  23 |  23 |   0 |  0 |   0 |   0 |      --      | 5.690000e+02 |    Inf | unknown\n",
      "  0.4s|     1 |     0 |    25 |     - |  3513k |   0 | 839 |  23 |  23 |   0 |  0 |   0 |   0 |      --      | 5.690000e+02 |    Inf | unknown\n",
      "PRICER_PY: elementary exceeded time limit. Returned 1889 valid paths with negative reduced cost.\n",
      "PRICER_PY: elementary exceeded time limit. Returned 160 valid paths with negative reduced cost.\n",
      "PRICER_PY: elementary exceeded time limit. Returned 2 valid paths with negative reduced cost.\n",
      "PRICER_PY: Switching to cspy.\n",
      "CSPY: Found elementary path (0, 20, 22, 17, 3, 2, 1, 6, 11, 13, 9, 5, 4, 21, 7, 0) with cost -39.0714285714286\n",
      "CSPY: Found elementary path (0, 7, 8, 4, 5, 9, 13, 11, 1, 2, 3, 16, 15, 22, 20, 0) with cost -35.43037974683547\n",
      "CSPY: Found elementary path (0, 7, 8, 4, 9, 13, 11, 6, 1, 2, 3, 16, 15, 22, 20, 0) with cost -49.64625850340143\n",
      "CSPY: Found elementary path (0, 18, 22, 17, 15, 16, 1, 6, 13, 9, 8, 4, 21, 7, 12, 0) with cost -32.58333333333354\n"
     ]
    }
   ],
   "source": [
    "model = VRP(G)\n",
    "\n",
    "# Create pricer\n",
    "pricer = VRPPricer()\n",
    "pricer.init_data(G)\n",
    "pricer.data['methods'] = [\"elementary\"]\n",
    "pricer.data['max_vars']= 10000\n",
    "pricer.data['time_limit'] = 1\n",
    "pricer.data['farley'] = False\n",
    "\n",
    "model.includePricer(pricer, \"pricer\",\"does pricing\")\n",
    "\n",
    "create_constraints(model,G,heuristic_time=1)\n",
    "\n",
    "model.optimize()\n",
    "model.hideOutput(quiet=False)"
   ]
  },
  {
   "cell_type": "code",
   "execution_count": 20,
   "id": "a6056c39",
   "metadata": {
    "scrolled": true
   },
   "outputs": [
    {
     "data": {
      "text/plain": [
       "Text(0, 0.5, 'Solution value')"
      ]
     },
     "execution_count": 20,
     "metadata": {},
     "output_type": "execute_result"
    },
    {
     "data": {
      "image/png": "[encoded data removed]",
      "text/plain": [
       "<Figure size 660x400 with 1 Axes>"
      ]
     },
     "metadata": {
      "needs_background": "light"
     },
     "output_type": "display_data"
    }
   ],
   "source": [
    "# This value is the exact pagewidth of latex\n",
    "# plt.figure(figsize=(4.9823,4))\n",
    "plt.figure(figsize=(6.6,4),dpi=100)\n",
    "\n",
    "upper_bounds = [x for x,y in pricer.data['bounds'][pricer.data['methods'][0]]]\n",
    "plt.plot(upper_bounds, label=\"LP value\")\n",
    "\n",
    "xmax, max_lb = 0, 0\n",
    "for method in pricer.data['methods']:\n",
    "    lower_bounds = [y for x,y in pricer.data['bounds'][method]]\n",
    "    plt.plot(lower_bounds, label=f'{method} LB')\n",
    "    xmax = max(upper_bounds[0],xmax)\n",
    "    if max(lower_bounds) > upper_bounds[-1]:\n",
    "        print(f\"The maximum lower bound for {method} is larger than the final bound\")\n",
    "    max_lb = max(max(lower_bounds),max_lb)\n",
    "\n",
    "T = nx.minimum_spanning_tree(G)\n",
    "mst = T.size(weight='weight') + min(G.edges().data('weight'),key=lambda edge: edge[2])[2]\n",
    "mst = [mst for i in range(len(upper_bounds))]\n",
    "plt.plot(mst, label=\"MST Bound\")\n",
    "\n",
    "# optimal = [69226 for i in range(len(upper_bounds))]\n",
    "# plt.plot(optimal, label=\"BKS of the CVRP\")\n",
    "\n",
    "# spprc = [67560 for i in range(len(upper_bounds))]\n",
    "# plt.plot(spprc, label=\"Optimal value of the SPPRC.\")\n",
    "\n",
    "# max_lb = [max_lb for i in range(len(upper_bounds))]\n",
    "# plt.plot(max_lb, label=\"Maximal lower bound.\")\n",
    "\n",
    "farley_bounds = pricer.data['farley_bound']\n",
    "plt.plot(farley_bounds, label=\"Farley Bound\")\n",
    "\n",
    "solval = model.getObjVal()\n",
    "sol = [solval for i in range(len(upper_bounds))]\n",
    "plt.plot(sol,label=\"Final solution value\")\n",
    "\n",
    "plt.ylim((mst[0]*0.9,xmax*1.1))\n",
    "\n",
    "plt.legend(loc='upper left')\n",
    "plt.xlabel(\"Number of Labelling iterations.\")\n",
    "plt.ylabel(\"Solution value\")\n",
    "# plt.savefig(\"plots/E-n76-k14.farley-spprc.pgf\")\n",
    "# plt.show()"
   ]
  },
  {
   "cell_type": "code",
   "execution_count": 4,
   "id": "6d6a6ae1",
   "metadata": {
    "scrolled": true
   },
   "outputs": [
    {
     "name": "stdout",
     "output_type": "stream",
     "text": [
      "The solution contains the following paths: \n",
      "Only paths with associated value larger than 1e-06 are analysed.\n",
      "0.5 * x4: (0, 3, 2, 0)\n",
      "0.5 * x5: (0, 1, 2, 0)\n",
      "0.5 * x6: (0, 3, 1, 0)\n",
      "Solution contains only elementary paths.\n"
     ]
    }
   ],
   "source": [
    "output_variables(model, pricer)"
   ]
  }
 ],
 "metadata": {
  "kernelspec": {
   "display_name": "Python 3 (ipykernel)",
   "language": "python",
   "name": "python3"
  },
  "language_info": {
   "codemirror_mode": {
    "name": "ipython",
    "version": 3
   },
   "file_extension": ".py",
   "mimetype": "text/x-python",
   "name": "python",
   "nbconvert_exporter": "python",
   "pygments_lexer": "ipython3",
   "version": "3.10.4"
  }
 },
 "nbformat": 4,
 "nbformat_minor": 5
}
