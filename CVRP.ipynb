{
 "cells": [
  {
   "cell_type": "markdown",
   "id": "7c43126c",
   "metadata": {},
   "source": [
    "# CVRP Notebook\n",
    "This notebook is intended to run the top level code for the CVRP"
   ]
  },
  {
   "cell_type": "code",
   "execution_count": 1,
   "id": "cafa2469",
   "metadata": {},
   "outputs": [],
   "source": [
    "import networkx as nx\n",
    "\n",
    "from src.model import VRP, create_constraints, output_variables, create_example_2\n",
    "from src.pricer import VRPPricer\n",
    "from src.parse import parse\n",
    "from src.output import write_solution\n",
    "\n",
    "from matplotlib import pyplot as plt\n",
    "import matplotlib\n",
    "matplotlib.use(\"pgf\")\n",
    "matplotlib.rcParams.update({\n",
    "    \"pgf.texsystem\": \"pdflatex\",\n",
    "    'font.family': 'serif',\n",
    "    'text.usetex': True,\n",
    "    'pgf.rcfonts': False,\n",
    "})"
   ]
  },
  {
   "cell_type": "code",
   "execution_count": 2,
   "id": "3687bde9",
   "metadata": {},
   "outputs": [
    {
     "name": "stdout",
     "output_type": "stream",
     "text": [
      "MAIN: Instance E-n33-k4\n",
      "PARSE: Minimum number of trucks is 4\n",
      "PARSE: Writing to file output/E-n33-k4_2.log\n"
     ]
    }
   ],
   "source": [
    "# G = parse(\"E-n22-k4\")\n",
    "# G = parse(\"E-n23-k3\")\n",
    "# G = parse(\"E-n30-k3\")\n",
    "G = parse(\"E-n33-k4\")\n",
    "# G = parse(\"E-n51-k5\")\n",
    "# G = parse(\"E-n76-k14\",filename=\"output/E-n76-k14.debug\")\n",
    "# G = parse(\"E-n101-k14\",filename=\"output/E-n101-k14.debug\")\n",
    "# G = parse(\"Instances/Uchoa/X-n101-k25.vrp\")\n",
    "# G.graph['min_trucks'] = 26\n",
    "# G = parse(\"Instances/Uchoa/X-n106-k14.vrp\")\n",
    "# G.graph['min_trucks'] = 14\n",
    "# G = parse(\"Instances/Uchoa/X-n110-k13.vrp\")\n",
    "# G.graph['min_trucks'] = 13\n",
    "# G = parse(\"Instances/Uchoa/X-n115-k10.vrp\")\n",
    "# G.graph['min_trucks'] = 10\n",
    "# G = parse(\"X-n120-k6\",6)\n",
    "# G = parse(\"Instances/Uchoa/X-n125-k30.vrp\")\n",
    "# G.graph['min_trucks'] = 30\n",
    "# G = parse(\"Instances/Uchoa/X-n129-k18.vrp\")\n",
    "# G.graph['min_trucks'] = 18\n",
    "# G = parse(\"Instances/Uchoa/X-n200-k36.vrp\")\n",
    "# G.graph['min_trucks'] = 36\n",
    "# G = parse(\"Instances/Uchoa/X-n228-k23.vrp\")\n",
    "# G.graph['min_trucks'] = 23\n",
    "# G = parse(\"Instances/Uchoa/X-n251-k28.vrp\")\n",
    "# G.graph['min_trucks'] = 28\n",
    "# G = parse(\"Instances/Uchoa/X-n256-k16.vrp\")\n",
    "# G.graph['min_trucks'] = 16\n",
    "# G = parse(\"Instances/Uchoa/X-n289-k60.vrp\")\n",
    "# G.graph['min_trucks'] = 61\n",
    "# G = parse(\"Instances/Uchoa/X-n502-k39.vrp\")\n",
    "# G.graph['min_trucks'] = 39 #TODO: Ist dieses K auch das K, einer Optimallösung?"
   ]
  },
  {
   "cell_type": "code",
   "execution_count": null,
   "id": "f4eb1c4f",
   "metadata": {
    "scrolled": true
   },
   "outputs": [
    {
     "name": "stdout",
     "output_type": "stream",
     "text": [
      "HYGESE: Found 14 initial routes in 39 rounds. Best sol val is 835.0\n",
      "SETUP: methods are ['ng20']\n",
      "SETUP: time_limit is 11000\n",
      "SETUP: Farley is False\n",
      "PRICER_PY: The maximal path length is 136\n",
      "PRICER_PY: The neighborhood has been initialzied to [20, 20] neighbors.\n",
      "PRICER_C: Graph data successfully copied to C.\n",
      "presolving:\n",
      "presolving (1 rounds: 1 fast, 1 medium, 1 exhaustive):\n",
      " 0 deleted vars, 0 deleted constraints, 0 added constraints, 0 tightened bounds, 0 added holes, 0 changed sides, 0 changed coefficients\n",
      " 0 implications, 0 cliques\n",
      "presolved problem has 46 variables (0 bin, 0 int, 0 impl, 46 cont) and 33 constraints\n",
      "     33 constraints of type <linear>\n",
      "Presolving Time: 0.00\n",
      "\n",
      " time | node  | left  |LP iter|LP it/n|mem/heur|mdpt |vars |cons |rows |cuts |sepa|confs|strbr|  dualbound   | primalbound  |  gap   | compl. \n",
      "* 0.1s|     1 |     0 |     9 |     - |    LP  |   0 |  46 |  33 |  33 |   0 |  0 |   0 |   0 |      --      | 8.350000e+02 |    Inf | unknown\n",
      "  0.1s|     1 |     0 |    23 |     - |  1123k |   0 | 153 |  33 |  33 |   0 |  0 |   0 |   0 |      --      | 8.350000e+02 |    Inf | unknown\n",
      "r 3.5s|     1 |     0 |   522 |     - |simplero|   0 |8840 |  33 |  33 |   0 |  0 |   0 |   0 |      --      | 8.341497e+02 |    Inf | unknown\n",
      "r 3.7s|     1 |     0 |   566 |     - |simplero|   0 |9322 |  33 |  33 |   0 |  0 |   0 |   0 |      --      | 8.295319e+02 |    Inf | unknown\n",
      "r 3.8s|     1 |     0 |   618 |     - |simplero|   0 |9486 |  33 |  33 |   0 |  0 |   0 |   0 |      --      | 8.207775e+02 |    Inf | unknown\n",
      "r 3.8s|     1 |     0 |   649 |     - |simplero|   0 |9631 |  33 |  33 |   0 |  0 |   0 |   0 |      --      | 8.188638e+02 |    Inf | unknown\n",
      "r 3.9s|     1 |     0 |   668 |     - |simplero|   0 |9723 |  33 |  33 |   0 |  0 |   0 |   0 |      --      | 8.176028e+02 |    Inf | unknown\n",
      "r 4.0s|     1 |     0 |   698 |     - |simplero|   0 |9794 |  33 |  33 |   0 |  0 |   0 |   0 |      --      | 8.155120e+02 |    Inf | unknown\n",
      "r 4.0s|     1 |     0 |   722 |     - |simplero|   0 |9849 |  33 |  33 |   0 |  0 |   0 |   0 |      --      | 8.131568e+02 |    Inf | unknown\n",
      "r 4.1s|     1 |     0 |   764 |     - |simplero|   0 |9916 |  33 |  33 |   0 |  0 |   0 |   0 |      --      | 8.087045e+02 |    Inf | unknown\n",
      "r 4.1s|     1 |     0 |   784 |     - |simplero|   0 |  10k|  33 |  33 |   0 |  0 |   0 |   0 |      --      | 8.077459e+02 |    Inf | unknown\n",
      "r 4.2s|     1 |     0 |   802 |     - |simplero|   0 |  10k|  33 |  33 |   0 |  0 |   0 |   0 |      --      | 8.072241e+02 |    Inf | unknown\n",
      "r 4.2s|     1 |     0 |   831 |     - |simplero|   0 |  10k|  33 |  33 |   0 |  0 |   0 |   0 |      --      | 8.054366e+02 |    Inf | unknown\n",
      "r 4.2s|     1 |     0 |   849 |     - |simplero|   0 |  10k|  33 |  33 |   0 |  0 |   0 |   0 |      --      | 8.052211e+02 |    Inf | unknown\n",
      "r 4.3s|     1 |     0 |   873 |     - |simplero|   0 |  10k|  33 |  33 |   0 |  0 |   0 |   0 |      --      | 8.050369e+02 |    Inf | unknown\n",
      " time | node  | left  |LP iter|LP it/n|mem/heur|mdpt |vars |cons |rows |cuts |sepa|confs|strbr|  dualbound   | primalbound  |  gap   | compl. \n",
      "r 4.3s|     1 |     0 |   886 |     - |simplero|   0 |  10k|  33 |  33 |   0 |  0 |   0 |   0 |      --      | 8.049211e+02 |    Inf | unknown\n",
      "r 4.3s|     1 |     0 |   889 |     - |simplero|   0 |  10k|  33 |  33 |   0 |  0 |   0 |   0 |      --      | 8.049118e+02 |    Inf | unknown\n",
      "PRICER_PY: Heuristic failed. Running exact pricing.\n",
      "r 137s|     1 |     0 |   919 |     - |simplero|   0 |  10k|  33 |  33 |   0 |  0 |   0 |   0 |      --      | 8.039221e+02 |    Inf | unknown\n",
      "r 137s|     1 |     0 |   926 |     - |simplero|   0 |  10k|  33 |  33 |   0 |  0 |   0 |   0 |      --      | 8.038609e+02 |    Inf | unknown\n",
      "PRICER_PY: Heuristic failed. Running exact pricing.\n",
      "r 383s|     1 |     0 |   935 |     - |simplero|   0 |  10k|  33 |  33 |   0 |  0 |   0 |   0 |      --      | 8.033797e+02 |    Inf | unknown\n",
      "PRICER_PY: Heuristic failed. Running exact pricing.\n"
     ]
    }
   ],
   "source": [
    "model = VRP(G)\n",
    "\n",
    "# Create pricer\n",
    "pricer = VRPPricer(G)\n",
    "pricer.data['methods'] = [\"ng20\"]\n",
    "pricer.data[\"ESPPRC_heur\"] = True\n",
    "pricer.data['max_vars']= int(1e4)\n",
    "pricer.data['time_limit'] = 11000\n",
    "pricer.data['farley'] = False\n",
    "\n",
    "model.includePricer(pricer, \"pricer\",\"does pricing\")\n",
    "\n",
    "create_constraints(model,pricer,heuristic_stale_it=20, heuristic_max_it=2e3, heuristic_time=1e-2)\n",
    "\n",
    "model.optimize()\n",
    "model.hideOutput(quiet=False)\n",
    "\n",
    "write_solution(model, pricer)"
   ]
  },
  {
   "cell_type": "code",
   "execution_count": 61,
   "id": "a6056c39",
   "metadata": {
    "scrolled": true
   },
   "outputs": [
    {
     "data": {
      "image/png": "[encoded data removed]",
      "text/plain": [
       "<Figure size 900x500 with 1 Axes>"
      ]
     },
     "metadata": {
      "needs_background": "light"
     },
     "output_type": "display_data"
    }
   ],
   "source": [
    "# This value is nice looking for the standard latex layout\n",
    "# plt.figure(figsize=(6.6,4),dpi=100)\n",
    "\n",
    "This value is nice looking for the CoAn layout\n",
    "plt.figure(figsize=(7.3,4),dpi=200)\n",
    "\n",
    "# This value is the original value for the presentation but looks horrible\n",
    "# plt.figure(figsize=(4.5,2.5),dpi=200)\n",
    "\n",
    "upper_bounds = [x for x,y in pricer.data['bounds'][pricer.data['methods'][0]]]\n",
    "plt.plot(upper_bounds, label=\"$Z_{\\mathit{RMP}}$\")\n",
    "\n",
    "xmax = 0\n",
    "for method in pricer.data['methods']:\n",
    "    lower_bounds = [lb for _,lb in pricer.data['bounds'][method]]\n",
    "#     lower_bounds = []\n",
    "#     best_lb = pricer.data['bounds'][method][0][1]\n",
    "#     for x,y in pricer.data['bounds'][method]:\n",
    "#         if y > best_lb:\n",
    "#             best_lb = y\n",
    "#         lower_bounds.append(best_lb)\n",
    "    plt.plot(lower_bounds, label=f'{method} LB')\n",
    "    xmax = max(upper_bounds[0],xmax)\n",
    "\n",
    "T = nx.minimum_spanning_tree(G)\n",
    "K = G.graph['min_trucks']\n",
    "lowest_remaining_edge_weights = [weight for u,v,weight in G.edges().data('weight') if not T.has_edge(u,v)]\n",
    "mst = T.size(weight='weight') + sum(sorted(lowest_remaining_edge_weights)[:K])\n",
    "mst = [mst for i in range(len(upper_bounds))]\n",
    "plt.plot(mst, label=\"MST Bound\")\n",
    "\n",
    "optimal = [13332 for i in range(len(upper_bounds))]\n",
    "plt.plot(optimal, label=\"$Z_{CVRP}$\")\n",
    "\n",
    "spprc = [12308 for i in range(len(upper_bounds))]\n",
    "plt.plot(spprc, label=\"$Z_{\\mathit{SPPRC}}$\")\n",
    "\n",
    "# ng8 = [481 for i in range(len(upper_bounds))]\n",
    "# plt.plot(ng8, label=\"Optimal value of ng 8.\")\n",
    "\n",
    "# cyc2 = [12784 for i in range(len(upper_bounds))]\n",
    "# plt.plot(cyc2, label=\"$Z_{\\mathit{2-cycle}}$\")\n",
    "\n",
    "if pricer.data['farley']:\n",
    "    farley_bounds = pricer.data['farley_bound']\n",
    "    plt.plot(farley_bounds, label=\"Farley Bound\")\n",
    "\n",
    "# solval = model.getObjVal()\n",
    "# sol = [solval for i in range(len(upper_bounds))]\n",
    "# plt.plot(sol,label=\"$Z_{MP}\")\n",
    "\n",
    "plt.ylim((mst[0]*0.99,optimal[0]*1.01))\n",
    "\n",
    "plt.legend(loc='lower right')\n",
    "plt.xlabel(\"Number of Labelling iterations.\")\n",
    "plt.ylabel(\"Solution value\")\n",
    "plt.savefig(\"plots/X-n120-k6.ng8-fluctuations-presentation.pgf\")\n",
    "# plt.show()"
   ]
  },
  {
   "cell_type": "code",
   "execution_count": 5,
   "id": "6d6a6ae1",
   "metadata": {
    "scrolled": true
   },
   "outputs": [
    {
     "name": "stdout",
     "output_type": "stream",
     "text": [
      "The solution contains the following paths: \n",
      "Only paths with associated value larger than 1e-06 are analysed.\n",
      "Solution contains only elementary paths.\n"
     ]
    }
   ],
   "source": [
    "output_variables(model, pricer)"
   ]
  }
 ],
 "metadata": {
  "kernelspec": {
   "display_name": "Python 3 (ipykernel)",
   "language": "python",
   "name": "python3"
  },
  "language_info": {
   "codemirror_mode": {
    "name": "ipython",
    "version": 3
   },
   "file_extension": ".py",
   "mimetype": "text/x-python",
   "name": "python",
   "nbconvert_exporter": "python",
   "pygments_lexer": "ipython3",
   "version": "3.10.4"
  }
 },
 "nbformat": 4,
 "nbformat_minor": 5
}
