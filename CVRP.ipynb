{
 "cells": [
  {
   "cell_type": "markdown",
   "id": "7c43126c",
   "metadata": {},
   "source": [
    "# VRP Demo with SCIP\n",
    "This file is intended to build the model for the CVRP using SCIP"
   ]
  },
  {
   "cell_type": "code",
   "execution_count": 1,
   "id": "0581b310",
   "metadata": {},
   "outputs": [],
   "source": [
    "from pyscipopt import Model, Pricer, SCIP_RESULT, SCIP_STAGE\n",
    "import networkx as nx"
   ]
  },
  {
   "cell_type": "code",
   "execution_count": 2,
   "id": "49176d48",
   "metadata": {},
   "outputs": [],
   "source": [
    "# Create Graph\n",
    "G = nx.Graph()\n",
    "G.add_nodes_from(range(4))\n",
    "for i in range(3):\n",
    "    G.add_edge(i,i+1,weight=1)\n",
    "G[1][2]['weigth'] = 10\n"
   ]
  },
  {
   "cell_type": "code",
   "execution_count": null,
   "id": "cacdf560",
   "metadata": {},
   "outputs": [],
   "source": []
  }
 ],
 "metadata": {
  "kernelspec": {
   "display_name": "Python 3 (ipykernel)",
   "language": "python",
   "name": "python3"
  },
  "language_info": {
   "codemirror_mode": {
    "name": "ipython",
    "version": 3
   },
   "file_extension": ".py",
   "mimetype": "text/x-python",
   "name": "python",
   "nbconvert_exporter": "python",
   "pygments_lexer": "ipython3",
   "version": "3.10.4"
  }
 },
 "nbformat": 4,
 "nbformat_minor": 5
}
