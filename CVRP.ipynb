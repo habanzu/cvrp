{
 "cells": [
  {
   "cell_type": "markdown",
   "id": "7c43126c",
   "metadata": {},
   "source": [
    "# CVRP Notebook\n",
    "This notebook is intended to run the top level code for the CVRP"
   ]
  },
  {
   "cell_type": "code",
   "execution_count": 1,
   "id": "5e734d54",
   "metadata": {},
   "outputs": [],
   "source": [
    "import networkx as nx\n",
    "\n",
    "from model import VRP, create_constraints, output_variables\n",
    "from pricer import VRPPricer\n",
    "from parse import parse"
   ]
  },
  {
   "cell_type": "code",
   "execution_count": 25,
   "id": "49176d48",
   "metadata": {},
   "outputs": [],
   "source": [
    "# Create Graph\n",
    "G = nx.complete_graph(10)\n",
    "for (u, v) in G.edges():\n",
    "    G.edges[u,v]['weight'] = random.randint(1,10)\n",
    "    \n",
    "for node in G.nodes():\n",
    "    G.nodes()[node]['demand'] = random.randint(1,10)\n",
    "\n",
    "G.graph['capacity'] = 20\n",
    "# nx.draw(G)"
   ]
  },
  {
   "cell_type": "code",
   "execution_count": 26,
   "id": "4910b577",
   "metadata": {},
   "outputs": [],
   "source": [
    "# Create Simple Graph for correctnes\n",
    "G = nx.complete_graph(4)\n",
    "for (u, v) in G.edges():\n",
    "    G.edges[u,v]['weight'] = 1\n",
    "G.edges[1,2]['weight'] = 1\n",
    "\n",
    "for node in G.nodes():\n",
    "    G.nodes()[node]['demand'] = 2\n",
    "\n",
    "G.graph['capacity'] = 4\n",
    "# nx.draw(G,with_labels=True)"
   ]
  },
  {
   "cell_type": "code",
   "execution_count": 2,
   "id": "3687bde9",
   "metadata": {},
   "outputs": [
    {
     "name": "stdout",
     "output_type": "stream",
     "text": [
      "PARSE: Minimum number of trucks is 14\n"
     ]
    }
   ],
   "source": [
    "# Test instance E-n22-k4 provided by parser\n",
    "# G = parse(\"Instances/E/E-n22-k4.vrp\")\n",
    "# G = parse(\"Instances/E/E-n23-k3.vrp\")\n",
    "# G = parse(\"Instances/E/E-n30-k3.vrp\")\n",
    "# G = parse(\"Instances/E/E-n33-k4.vrp\")\n",
    "# G = parse(\"Instances/E/E-n51-k5.vrp\")\n",
    "G = parse(\"Instances/E/E-n76-k14.vrp\")"
   ]
  },
  {
   "cell_type": "code",
   "execution_count": null,
   "id": "cacdf560",
   "metadata": {},
   "outputs": [
    {
     "name": "stdout",
     "output_type": "stream",
     "text": [
      "PRICER_PY: The maximal path length is 52\n",
      "PRICER_C: Graph data successfully copied to C.\n",
      "presolving:\n",
      "presolving (1 rounds: 1 fast, 1 medium, 1 exhaustive):\n",
      " 0 deleted vars, 0 deleted constraints, 0 added constraints, 0 tightened bounds, 0 added holes, 0 changed sides, 0 changed coefficients\n",
      " 0 implications, 0 cliques\n",
      "presolved problem has 75 variables (0 bin, 0 int, 0 impl, 75 cont) and 76 constraints\n",
      "     76 constraints of type <linear>\n",
      "Presolving Time: 0.00\n",
      "\n",
      "PY PRICING: Found 603 paths with reduced cost\n",
      " time | node  | left  |LP iter|LP it/n|mem/heur|mdpt |vars |cons |rows |cuts |sepa|confs|strbr|  dualbound   | primalbound  |  gap   | compl. \n",
      "  0.3s|     1 |     0 |    21 |     - |  2808k |   0 | 678 |  76 |  76 |   0 |  0 |   0 |   0 |      --      |      --      |    Inf | unknown\n",
      "PY PRICING: Found 447 paths with reduced cost\n",
      "PY PRICING: Found 811 paths with reduced cost\n",
      "PY PRICING: Found 485 paths with reduced cost\n",
      "PY PRICING: Found 391 paths with reduced cost\n",
      "PY PRICING: Found 376 paths with reduced cost\n",
      "PY PRICING: Found 552 paths with reduced cost\n",
      "PY PRICING: Found 1400 paths with reduced cost\n",
      "PY PRICING: Found 2068 paths with reduced cost\n",
      "PY PRICING: Found 2559 paths with reduced cost\n",
      "PY PRICING: Found 767 paths with reduced cost\n",
      "PY PRICING: Found 639 paths with reduced cost\n",
      "PY PRICING: Found 532 paths with reduced cost\n",
      "PY PRICING: Found 433 paths with reduced cost\n",
      "PY PRICING: Found 398 paths with reduced cost\n",
      "PY PRICING: Found 344 paths with reduced cost\n",
      "PY PRICING: Found 1065 paths with reduced cost\n",
      "PY PRICING: Found 492 paths with reduced cost\n",
      "PY PRICING: Found 318 paths with reduced cost\n",
      "PY PRICING: Found 1354 paths with reduced cost\n",
      "PY PRICING: Found 305 paths with reduced cost\n",
      "PY PRICING: Found 2676 paths with reduced cost\n",
      "PY PRICING: Found 1633 paths with reduced cost\n",
      "PY PRICING: Found 303 paths with reduced cost\n",
      "PY PRICING: Found 266 paths with reduced cost\n",
      "PY PRICING: Found 314 paths with reduced cost\n",
      "PY PRICING: Found 254 paths with reduced cost\n",
      "PY PRICING: Found 894 paths with reduced cost\n",
      "PY PRICING: Found 242 paths with reduced cost\n",
      "PY PRICING: Found 764 paths with reduced cost\n",
      "PY PRICING: Found 237 paths with reduced cost\n",
      "PY PRICING: Found 218 paths with reduced cost\n",
      "PY PRICING: Found 210 paths with reduced cost\n",
      "PY PRICING: Found 695 paths with reduced cost\n",
      "PY PRICING: Found 378 paths with reduced cost\n",
      "PY PRICING: Found 198 paths with reduced cost\n",
      "PY PRICING: Found 191 paths with reduced cost\n",
      "PY PRICING: Found 481 paths with reduced cost\n",
      "PY PRICING: Found 547 paths with reduced cost\n",
      "PY PRICING: Found 3265 paths with reduced cost\n",
      "PY PRICING: Found 2836 paths with reduced cost\n",
      "PY PRICING: Found 164 paths with reduced cost\n",
      "PY PRICING: Found 158 paths with reduced cost\n",
      "PY PRICING: Found 791 paths with reduced cost\n",
      "PY PRICING: Found 1700 paths with reduced cost\n",
      "PY PRICING: Found 989 paths with reduced cost\n",
      "PY PRICING: Found 1782 paths with reduced cost\n",
      "PY PRICING: Found 1754 paths with reduced cost\n",
      "PY PRICING: Found 1464 paths with reduced cost\n",
      "r14.7s|     1 |     0 |  4613 |     - |simplero|   0 |  41k|  76 |  76 |   0 |  0 |   0 |   0 |      --      | 2.357306e+03 |    Inf | unknown\n",
      "PY PRICING: Found 1319 paths with reduced cost\n",
      "r15.4s|     1 |     0 |  4719 |     - |simplero|   0 |  43k|  76 |  76 |   0 |  0 |   0 |   0 |      --      | 2.276581e+03 |    Inf | unknown\n",
      "PY PRICING: Found 2377 paths with reduced cost\n",
      "r16.4s|     1 |     0 |  4887 |     - |simplero|   0 |  45k|  76 |  76 |   0 |  0 |   0 |   0 |      --      | 2.146981e+03 |    Inf | unknown\n",
      "PY PRICING: Found 2286 paths with reduced cost\n",
      "r17.4s|     1 |     0 |  4928 |     - |simplero|   0 |  47k|  76 |  76 |   0 |  0 |   0 |   0 |      --      | 2.084643e+03 |    Inf | unknown\n",
      "PY PRICING: Found 1700 paths with reduced cost\n",
      "r18.1s|     1 |     0 |  5093 |     - |simplero|   0 |  49k|  76 |  76 |   0 |  0 |   0 |   0 |      --      | 1.956363e+03 |    Inf | unknown\n",
      "PY PRICING: Found 1635 paths with reduced cost\n"
     ]
    }
   ],
   "source": [
    "model = VRP(G)\n",
    "\n",
    "# Create pricer\n",
    "pricer = VRPPricer()\n",
    "pricer.init_data(G)\n",
    "model.includePricer(pricer, \"pricer\",\"does pricing\")\n",
    "\n",
    "create_constraints(model,G)\n",
    "\n",
    "# model.hideOutput()\n",
    "model.optimize()\n",
    "model.hideOutput(quiet=False)\n",
    "# model.printBestSol()\n",
    "\n",
    "output_variables(model, pricer)"
   ]
  }
 ],
 "metadata": {
  "kernelspec": {
   "display_name": "Python 3 (ipykernel)",
   "language": "python",
   "name": "python3"
  },
  "language_info": {
   "codemirror_mode": {
    "name": "ipython",
    "version": 3
   },
   "file_extension": ".py",
   "mimetype": "text/x-python",
   "name": "python",
   "nbconvert_exporter": "python",
   "pygments_lexer": "ipython3",
   "version": "3.10.4"
  }
 },
 "nbformat": 4,
 "nbformat_minor": 5
}
