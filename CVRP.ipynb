{
 "cells": [
  {
   "cell_type": "markdown",
   "id": "7c43126c",
   "metadata": {},
   "source": [
    "# CVRP Notebook\n",
    "This notebook is intended to run the top level code for the CVRP"
   ]
  },
  {
   "cell_type": "code",
   "execution_count": 1,
   "id": "cafa2469",
   "metadata": {},
   "outputs": [],
   "source": [
    "import networkx as nx\n",
    "\n",
    "from model import VRP, create_constraints, output_variables\n",
    "from pricer import VRPPricer\n",
    "from parse import parse"
   ]
  },
  {
   "cell_type": "code",
   "execution_count": 2,
   "id": "3687bde9",
   "metadata": {},
   "outputs": [
    {
     "name": "stdout",
     "output_type": "stream",
     "text": [
      "PARSE: Minimum number of trucks is 14\n"
     ]
    }
   ],
   "source": [
    "# Test instance E-n22-k4 provided by parser\n",
    "# G = parse(\"Instances/E/E-n22-k4.vrp\")\n",
    "# G = parse(\"Instances/E/E-n23-k3.vrp\")\n",
    "# G = parse(\"Instances/E/E-n30-k3.vrp\")\n",
    "# G = parse(\"Instances/E/E-n33-k4.vrp\")\n",
    "# G = parse(\"Instances/E/E-n51-k5.vrp\")\n",
    "G = parse(\"Instances/E/E-n76-k14.vrp\")"
   ]
  },
  {
   "cell_type": "code",
   "execution_count": null,
   "id": "cacdf560",
   "metadata": {},
   "outputs": [
    {
     "name": "stdout",
     "output_type": "stream",
     "text": [
      "PRICER_PY: The maximal path length is 52\n",
      "PRICER_C: Graph data successfully copied to C.\n",
      "presolving:\n",
      "presolving (1 rounds: 1 fast, 1 medium, 1 exhaustive):\n",
      " 0 deleted vars, 0 deleted constraints, 0 added constraints, 0 tightened bounds, 0 added holes, 0 changed sides, 0 changed coefficients\n",
      " 0 implications, 0 cliques\n",
      "presolved problem has 75 variables (0 bin, 0 int, 0 impl, 75 cont) and 76 constraints\n",
      "     76 constraints of type <linear>\n",
      "Presolving Time: 0.00\n",
      "\n",
      "PY PRICING: Found 368400 paths with reduced cost\n",
      " time | node  | left  |LP iter|LP it/n|mem/heur|mdpt |vars |cons |rows |cuts |sepa|confs|strbr|  dualbound   | primalbound  |  gap   | compl. \n",
      "  707s|     1 |     0 |    87 |     - |    33M |   0 |  10k|  76 |  76 |   0 |  0 |   0 |   0 |      --      |      --      |    Inf | unknown\n"
     ]
    }
   ],
   "source": [
    "model = VRP(G)\n",
    "\n",
    "\n",
    "# Create pricer\n",
    "pricer = VRPPricer()\n",
    "pricer.init_data(G)\n",
    "pricer.data['elementary'] = True\n",
    "pricer.data['max_vars']= 10000\n",
    "pricer.data['abort_early'] = False\n",
    "\n",
    "model.includePricer(pricer, \"pricer\",\"does pricing\")\n",
    "\n",
    "create_constraints(model,G)\n",
    "\n",
    "# model.hideOutput()\n",
    "model.optimize()\n",
    "model.hideOutput(quiet=False)\n",
    "# model.printBestSol()"
   ]
  },
  {
   "cell_type": "code",
   "execution_count": 4,
   "id": "707e3e4a",
   "metadata": {},
   "outputs": [
    {
     "name": "stdout",
     "output_type": "stream",
     "text": [
      "The solution contains the following paths: \n",
      "0.125 * x12569: (0, 7, 2, 1, 3, 4, 11, 0)\n",
      "0.125 * x12572: (0, 9, 5, 3, 4, 11, 0)\n",
      "0.25 * x14103: (0, 9, 7, 5, 2, 1, 10, 0)\n",
      "0.625 * x14654: (0, 9, 7, 5, 2, 1, 6, 8, 0)\n",
      "0.375 * x14860: (0, 13, 11, 4, 3, 6, 10, 0)\n",
      "0.8333333333333333 * x15448: (0, 16, 19, 21, 14, 0)\n",
      "0.9166666666666666 * x19246: (0, 12, 15, 18, 20, 17, 0)\n",
      "0.375 * x19380: (0, 13, 11, 4, 3, 8, 10, 0)\n"
     ]
    }
   ],
   "source": [
    "output_variables(model, pricer)"
   ]
  }
 ],
 "metadata": {
  "kernelspec": {
   "display_name": "Python 3 (ipykernel)",
   "language": "python",
   "name": "python3"
  },
  "language_info": {
   "codemirror_mode": {
    "name": "ipython",
    "version": 3
   },
   "file_extension": ".py",
   "mimetype": "text/x-python",
   "name": "python",
   "nbconvert_exporter": "python",
   "pygments_lexer": "ipython3",
   "version": "3.10.4"
  }
 },
 "nbformat": 4,
 "nbformat_minor": 5
}
