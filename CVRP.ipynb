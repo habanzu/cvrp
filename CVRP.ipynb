{
 "cells": [
  {
   "cell_type": "markdown",
   "id": "7c43126c",
   "metadata": {},
   "source": [
    "# CVRP Notebook\n",
    "This notebook is intended to run the top level code for the CVRP"
   ]
  },
  {
   "cell_type": "code",
   "execution_count": 1,
   "id": "cafa2469",
   "metadata": {},
   "outputs": [],
   "source": [
    "import networkx as nx\n",
    "\n",
    "from src.model import VRP, create_constraints, output_variables, create_example_2\n",
    "from src.pricer import VRPPricer\n",
    "from src.parse import parse\n",
    "\n",
    "from matplotlib import pyplot as plt\n",
    "import matplotlib\n",
    "# matplotlib.use(\"pgf\")\n",
    "# matplotlib.rcParams.update({\n",
    "#     \"pgf.texsystem\": \"pdflatex\",\n",
    "#     'font.family': 'serif',\n",
    "#     'text.usetex': True,\n",
    "#     'pgf.rcfonts': False,\n",
    "# })"
   ]
  },
  {
   "cell_type": "code",
   "execution_count": 8,
   "id": "3687bde9",
   "metadata": {},
   "outputs": [
    {
     "name": "stdout",
     "output_type": "stream",
     "text": [
      "PARSE: There is no minimum number of trucks.\n"
     ]
    }
   ],
   "source": [
    "# G = parse(\"Instances/E/E-n22-k4.vrp\")\n",
    "# G = parse(\"Instances/E/E-n23-k3.vrp\")\n",
    "# G = parse(\"Instances/E/E-n30-k3.vrp\")\n",
    "# G = parse(\"Instances/E/E-n33-k4.vrp\")\n",
    "# G = parse(\"Instances/E/E-n51-k5.vrp\")\n",
    "# G = parse(\"Instances/E/E-n76-k14.vrp\")\n",
    "# G = parse(\"Instances/E/E-n101-k14.vrp\")\n",
    "# G = parse(\"Instances/Uchoa/X-n101-k25.vrp\")\n",
    "# G.graph['min_trucks'] = 26\n",
    "# G = parse(\"Instances/Uchoa/X-n106-k14.vrp\")\n",
    "# G.graph['min_trucks'] = 14\n",
    "# G = parse(\"Instances/Uchoa/X-n110-k13.vrp\")\n",
    "# G.graph['min_trucks'] = 13\n",
    "# G = parse(\"Instances/Uchoa/X-n115-k10.vrp\")\n",
    "# G.graph['min_trucks'] = 10\n",
    "G = parse(\"Instances/Uchoa/X-n120-k6.vrp\")\n",
    "G.graph['min_trucks'] = 6\n",
    "# G = parse(\"Instances/Uchoa/X-n125-k30.vrp\")\n",
    "# G.graph['min_trucks'] = 30\n",
    "# G = parse(\"Instances/Uchoa/X-n129-k18.vrp\")\n",
    "# G.graph['min_trucks'] = 18\n",
    "# G = parse(\"Instances/Uchoa/X-n200-k36.vrp\")\n",
    "# G.graph['min_trucks'] = 36\n",
    "# G = parse(\"Instances/Uchoa/X-n228-k23.vrp\")\n",
    "# G.graph['min_trucks'] = 23\n",
    "# G = parse(\"Instances/Uchoa/X-n251-k28.vrp\")\n",
    "# G.graph['min_trucks'] = 28\n",
    "# G = parse(\"Instances/Uchoa/X-n256-k16.vrp\")\n",
    "# G.graph['min_trucks'] = 16\n",
    "# G = parse(\"Instances/Uchoa/X-n289-k60.vrp\")\n",
    "# G.graph['min_trucks'] = 61\n",
    "# G = parse(\"Instances/Uchoa/X-n502-k39.vrp\")\n",
    "# G.graph['min_trucks'] = 39 #TODO: Ist dieses K auch das K, einer Optimallösung?"
   ]
  },
  {
   "cell_type": "code",
   "execution_count": null,
   "id": "f4eb1c4f",
   "metadata": {},
   "outputs": [
    {
     "name": "stdout",
     "output_type": "stream",
     "text": [
      "HYGESE: Found 38968 initial routes in 10000 rounds\n",
      "PRICER_PY: The maximal path length is 23\n",
      "PY PRICING: The neighborhood has been fixed to 8 neighbors.\n",
      "PRICER_C: Graph data successfully copied to C.\n",
      "presolving:\n",
      "presolving (1 rounds: 1 fast, 1 medium, 1 exhaustive):\n",
      " 0 deleted vars, 0 deleted constraints, 0 added constraints, 0 tightened bounds, 0 added holes, 0 changed sides, 0 changed coefficients\n",
      " 0 implications, 0 cliques\n",
      "presolved problem has 39087 variables (0 bin, 0 int, 0 impl, 39087 cont) and 120 constraints\n",
      "    120 constraints of type <linear>\n",
      "Presolving Time: 0.11\n",
      "\n",
      " time | node  | left  |LP iter|LP it/n|mem/heur|mdpt |vars |cons |rows |cuts |sepa|confs|strbr|  dualbound   | primalbound  |  gap   | compl. \n",
      "*13.5s|     1 |     0 |  4964 |     - |    LP  |   0 |  39k| 120 | 120 |   0 |  0 |   0 |   0 |      --      | 1.304787e+04 |    Inf | unknown\n",
      " 15.6s|     1 |     0 |  4990 |     - |   287M |   0 |  41k| 120 | 120 |   0 |  0 |   0 |   0 |      --      | 1.304787e+04 |    Inf | unknown\n",
      "r18.0s|     1 |     0 |  5019 |     - |simplero|   0 |  43k| 120 | 120 |   0 |  0 |   0 |   0 |      --      | 1.304779e+04 |    Inf | unknown\n",
      "r20.8s|     1 |     0 |  5129 |     - |simplero|   0 |  45k| 120 | 120 |   0 |  0 |   0 |   0 |      --      | 1.304250e+04 |    Inf | unknown\n",
      "r31.7s|     1 |     0 |  5492 |     - |simplero|   0 |  52k| 120 | 120 |   0 |  0 |   0 |   0 |      --      | 1.303094e+04 |    Inf | unknown\n",
      "r41.9s|     1 |     0 |  5554 |     - |simplero|   0 |  56k| 120 | 120 |   0 |  0 |   0 |   0 |      --      | 1.303092e+04 |    Inf | unknown\n",
      "r57.4s|     1 |     0 |  5877 |     - |simplero|   0 |  62k| 120 | 120 |   0 |  0 |   0 |   0 |      --      | 1.302281e+04 |    Inf | unknown\n",
      "r66.1s|     1 |     0 |  6211 |     - |simplero|   0 |  63k| 120 | 120 |   0 |  0 |   0 |   0 |      --      | 1.301773e+04 |    Inf | unknown\n",
      "r81.2s|     1 |     0 |  6510 |     - |simplero|   0 |  69k| 120 | 120 |   0 |  0 |   0 |   0 |      --      | 1.301710e+04 |    Inf | unknown\n",
      "r88.2s|     1 |     0 |  6702 |     - |simplero|   0 |  70k| 120 | 120 |   0 |  0 |   0 |   0 |      --      | 1.301252e+04 |    Inf | unknown\n",
      "r95.5s|     1 |     0 |  6863 |     - |simplero|   0 |  70k| 120 | 120 |   0 |  0 |   0 |   0 |      --      | 1.300975e+04 |    Inf | unknown\n",
      "r 112s|     1 |     0 |  7056 |     - |simplero|   0 |  72k| 120 | 120 |   0 |  0 |   0 |   0 |      --      | 1.300790e+04 |    Inf | unknown\n",
      "r 141s|     1 |     0 |  7519 |     - |simplero|   0 |  74k| 120 | 120 |   0 |  0 |   0 |   0 |      --      | 1.299510e+04 |    Inf | unknown\n",
      "r 151s|     1 |     0 |  7581 |     - |simplero|   0 |  74k| 120 | 120 |   0 |  0 |   0 |   0 |      --      | 1.299500e+04 |    Inf | unknown\n",
      "r 160s|     1 |     0 |  7652 |     - |simplero|   0 |  75k| 120 | 120 |   0 |  0 |   0 |   0 |      --      | 1.299474e+04 |    Inf | unknown\n",
      " time | node  | left  |LP iter|LP it/n|mem/heur|mdpt |vars |cons |rows |cuts |sepa|confs|strbr|  dualbound   | primalbound  |  gap   | compl. \n",
      "r 194s|     1 |     0 |  7948 |     - |simplero|   0 |  76k| 120 | 120 |   0 |  0 |   0 |   0 |      --      | 1.299391e+04 |    Inf | unknown\n",
      "r 225s|     1 |     0 |  8147 |     - |simplero|   0 |  77k| 120 | 120 |   0 |  0 |   0 |   0 |      --      | 1.298945e+04 |    Inf | unknown\n",
      "r 256s|     1 |     0 |  8503 |     - |simplero|   0 |  78k| 120 | 120 |   0 |  0 |   0 |   0 |      --      | 1.298225e+04 |    Inf | unknown\n",
      "r 267s|     1 |     0 |  8822 |     - |simplero|   0 |  79k| 120 | 120 |   0 |  0 |   0 |   0 |      --      | 1.298043e+04 |    Inf | unknown\n",
      "r 291s|     1 |     0 |  9124 |     - |simplero|   0 |  79k| 120 | 120 |   0 |  0 |   0 |   0 |      --      | 1.297360e+04 |    Inf | unknown\n",
      "r 315s|     1 |     0 |  9234 |     - |simplero|   0 |  80k| 120 | 120 |   0 |  0 |   0 |   0 |      --      | 1.297265e+04 |    Inf | unknown\n",
      "r 326s|     1 |     0 |  9312 |     - |simplero|   0 |  80k| 120 | 120 |   0 |  0 |   0 |   0 |      --      | 1.297236e+04 |    Inf | unknown\n",
      "r 340s|     1 |     0 |  9602 |     - |simplero|   0 |  80k| 120 | 120 |   0 |  0 |   0 |   0 |      --      | 1.296602e+04 |    Inf | unknown\n",
      "r 394s|     1 |     0 |  9999 |     - |simplero|   0 |  81k| 120 | 120 |   0 |  0 |   0 |   0 |      --      | 1.296305e+04 |    Inf | unknown\n",
      "r 406s|     1 |     0 | 10059 |     - |simplero|   0 |  81k| 120 | 120 |   0 |  0 |   0 |   0 |      --      | 1.296298e+04 |    Inf | unknown\n",
      "r 420s|     1 |     0 | 10549 |     - |simplero|   0 |  81k| 120 | 120 |   0 |  0 |   0 |   0 |      --      | 1.295892e+04 |    Inf | unknown\n",
      "r 469s|     1 |     0 | 10957 |     - |simplero|   0 |  84k| 120 | 120 |   0 |  0 |   0 |   0 |      --      | 1.295815e+04 |    Inf | unknown\n",
      "r 480s|     1 |     0 | 11052 |     - |simplero|   0 |  84k| 120 | 120 |   0 |  0 |   0 |   0 |      --      | 1.295787e+04 |    Inf | unknown\n",
      "r 490s|     1 |     0 | 11152 |     - |simplero|   0 |  84k| 120 | 120 |   0 |  0 |   0 |   0 |      --      | 1.295755e+04 |    Inf | unknown\n",
      "r 513s|     1 |     0 | 11317 |     - |simplero|   0 |  84k| 120 | 120 |   0 |  0 |   0 |   0 |      --      | 1.295664e+04 |    Inf | unknown\n",
      " time | node  | left  |LP iter|LP it/n|mem/heur|mdpt |vars |cons |rows |cuts |sepa|confs|strbr|  dualbound   | primalbound  |  gap   | compl. \n",
      "r 526s|     1 |     0 | 11337 |     - |simplero|   0 |  84k| 120 | 120 |   0 |  0 |   0 |   0 |      --      | 1.295662e+04 |    Inf | unknown\n",
      "r 538s|     1 |     0 | 11412 |     - |simplero|   0 |  84k| 120 | 120 |   0 |  0 |   0 |   0 |      --      | 1.295527e+04 |    Inf | unknown\n",
      "r 565s|     1 |     0 | 11875 |     - |simplero|   0 |  85k| 120 | 120 |   0 |  0 |   0 |   0 |      --      | 1.294707e+04 |    Inf | unknown\n",
      "r 577s|     1 |     0 | 11920 |     - |simplero|   0 |  85k| 120 | 120 |   0 |  0 |   0 |   0 |      --      | 1.294704e+04 |    Inf | unknown\n",
      "r 589s|     1 |     0 | 12106 |     - |simplero|   0 |  85k| 120 | 120 |   0 |  0 |   0 |   0 |      --      | 1.294553e+04 |    Inf | unknown\n"
     ]
    }
   ],
   "source": [
    "model = VRP(G)\n",
    "\n",
    "# Create pricer\n",
    "pricer = VRPPricer()\n",
    "pricer.init_data(G)\n",
    "pricer.data['methods'] = [\"ng8\"]\n",
    "pricer.data['max_vars']= 10000\n",
    "pricer.data['time_limit'] = 300\n",
    "pricer.data['farley'] = False\n",
    "\n",
    "model.includePricer(pricer, \"pricer\",\"does pricing\")\n",
    "\n",
    "create_constraints(model,G,heuristic_stale_it=100, heuristic_max_it=2e4)\n",
    "\n",
    "model.optimize()\n",
    "model.hideOutput(quiet=False)"
   ]
  },
  {
   "cell_type": "code",
   "execution_count": 7,
   "id": "a6056c39",
   "metadata": {
    "scrolled": true
   },
   "outputs": [
    {
     "data": {
      "image/png": "[encoded data removed]",
      "text/plain": [
       "<Figure size 660x400 with 1 Axes>"
      ]
     },
     "metadata": {
      "needs_background": "light"
     },
     "output_type": "display_data"
    }
   ],
   "source": [
    "# This value is the exact pagewidth of latex\n",
    "plt.figure(figsize=(6.6,4),dpi=100)\n",
    "\n",
    "upper_bounds = [x for x,y in pricer.data['bounds'][pricer.data['methods'][0]]]\n",
    "plt.plot(upper_bounds, label=\"LP value\")\n",
    "\n",
    "xmax = 0\n",
    "for method in pricer.data['methods']:\n",
    "    lower_bounds = [y for x,y in pricer.data['bounds'][method]]\n",
    "    plt.plot(lower_bounds, label=f'{method} LB')\n",
    "    xmax = max(upper_bounds[0],xmax)\n",
    "\n",
    "T = nx.minimum_spanning_tree(G)\n",
    "mst = T.size(weight='weight') + min(G.edges().data('weight'),key=lambda edge: edge[2])[2]\n",
    "mst = [mst for i in range(len(upper_bounds))]\n",
    "plt.plot(mst, label=\"MST Bound\")\n",
    "\n",
    "# optimal = [534 for i in range(len(upper_bounds))]\n",
    "# plt.plot(optimal, label=\"Optimal Integer Solution\")\n",
    "\n",
    "# spprc = [445 for i in range(len(upper_bounds))]\n",
    "# plt.plot(spprc, label=\"Optimal value of the SPPRC.\")\n",
    "\n",
    "# ng8 = [481 for i in range(len(upper_bounds))]\n",
    "# plt.plot(ng8, label=\"Optimal value of ng 8.\")\n",
    "\n",
    "# cyc2 = [464.2 for i in range(len(upper_bounds))]\n",
    "# plt.plot(cyc2, label=\"Optimal value of 2-cycle Elimination.\")\n",
    "\n",
    "if pricer.data['farley']:\n",
    "    farley_bounds = pricer.data['farley_bound']\n",
    "    plt.plot(farley_bounds, label=\"Farley Bound\")\n",
    "\n",
    "solval = model.getObjVal()\n",
    "sol = [solval for i in range(len(upper_bounds))]\n",
    "plt.plot(sol,label=\"Final solution value\")\n",
    "\n",
    "plt.ylim((mst[0]*0.9,xmax*1.1))\n",
    "\n",
    "plt.legend(loc='upper left')\n",
    "plt.xlabel(\"Number of Labelling iterations.\")\n",
    "plt.ylabel(\"Solution value\")\n",
    "# plt.savefig(\"plots/E-n30-k3.espprc.pgf\")\n",
    "plt.show()"
   ]
  },
  {
   "cell_type": "code",
   "execution_count": null,
   "id": "6d6a6ae1",
   "metadata": {
    "scrolled": true
   },
   "outputs": [],
   "source": [
    "output_variables(model, pricer)"
   ]
  }
 ],
 "metadata": {
  "kernelspec": {
   "display_name": "Python 3 (ipykernel)",
   "language": "python",
   "name": "python3"
  },
  "language_info": {
   "codemirror_mode": {
    "name": "ipython",
    "version": 3
   },
   "file_extension": ".py",
   "mimetype": "text/x-python",
   "name": "python",
   "nbconvert_exporter": "python",
   "pygments_lexer": "ipython3",
   "version": "3.10.4"
  }
 },
 "nbformat": 4,
 "nbformat_minor": 5
}
