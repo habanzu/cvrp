{
 "cells": [
  {
   "cell_type": "markdown",
   "id": "d04dc3a5",
   "metadata": {},
   "source": [
    "# Evaluation der Iterationsplots "
   ]
  },
  {
   "cell_type": "code",
   "execution_count": 1,
   "id": "adf9d7d9",
   "metadata": {},
   "outputs": [],
   "source": [
    "import matplotlib.pyplot as plt\n",
    "import pandas as pd\n",
    "import networkx as nx\n",
    "import sys, os, re\n",
    "os.chdir(\"..\")\n",
    "import src.parse as parse\n",
    "from src.plot import plot_all, automatic_plotting"
   ]
  },
  {
   "cell_type": "code",
   "execution_count": 40,
   "id": "eee81a4a",
   "metadata": {},
   "outputs": [
    {
     "name": "stderr",
     "output_type": "stream",
     "text": [
      "/var/folders/tv/pzvp6rwx029b6p4rgqv2cx0h0000gn/T/ipykernel_49319/4167597410.py:27: FutureWarning: In future versions `DataFrame.to_latex` is expected to utilise the base implementation of `Styler.to_latex` for formatting and rendering. The arguments signature may therefore change. It is recommended instead to use `DataFrame.style.to_latex` which also contains additional functionality.\n",
      "  data.to_latex(\"plots/table_iterations.tex\", float_format=\"{:.2f}\".format,na_rep=\"-\")\n"
     ]
    }
   ],
   "source": [
    "dfs = {}\n",
    "methods = [\"SPPRC\",\"cyc2\",\"ng8\",\"ng20\"]\n",
    "columns = ['instance','terminated']\n",
    "finished_columns = [\"SPPRC\",\"cyc2\",\"ng8\"]\n",
    "data = pd.DataFrame(columns=columns + finished_columns)\n",
    "pattern = r\"(X-n(\\d+)-k(\\d+)).log\"\n",
    "for i, log in enumerate((log for log in os.listdir(\"output_iterations\"))):\n",
    "    ID = log.strip(\".log\")\n",
    "    instance, n, K = re.search(pattern, log).groups()\n",
    "    log = f\"output_iterations/{log}\"\n",
    "    finished = parse.log_finished(log)\n",
    "    df = parse.parse_output(log)\n",
    "    sol_val = df[df.method == \"ng20\"]['lower_bound'].iloc[-1]\n",
    "    if finished:\n",
    "        row = []\n",
    "        for method in finished_columns:\n",
    "            lb = df[df.method == method]['lower_bound'].iloc[-1]\n",
    "            row.append(lb/sol_val)\n",
    "    if finished:\n",
    "        data = pd.concat((data,pd.DataFrame([[instance, finished, *row]], columns=columns + finished_columns)))\n",
    "    else:\n",
    "        data = pd.concat((data,pd.DataFrame([[instance, finished]], columns=columns)))\n",
    "data = data.sort_values(\"instance\")\n",
    "data = data.set_index(data.instance)[[\"SPPRC\",\"cyc2\",\"ng8\"]]\n",
    "data[data<0] = 0\n",
    "data = data.sort_values(\"instance\")\n",
    "# data.to_latex(\"plots/table_iterations.tex\", float_format=\"{:.2f}\".format,na_rep=\"-\")\n",
    "# data.style"
   ]
  },
  {
   "cell_type": "code",
   "execution_count": 42,
   "id": "c99be150",
   "metadata": {},
   "outputs": [
    {
     "data": {
      "text/plain": [
       "SPPRC    0.516671\n",
       "cyc2     0.831887\n",
       "ng8      0.952441\n",
       "dtype: float64"
      ]
     },
     "execution_count": 42,
     "metadata": {},
     "output_type": "execute_result"
    }
   ],
   "source": [
    "data.mean()"
   ]
  }
 ],
 "metadata": {
  "kernelspec": {
   "display_name": "Python 3 (ipykernel)",
   "language": "python",
   "name": "python3"
  },
  "language_info": {
   "codemirror_mode": {
    "name": "ipython",
    "version": 3
   },
   "file_extension": ".py",
   "mimetype": "text/x-python",
   "name": "python",
   "nbconvert_exporter": "python",
   "pygments_lexer": "ipython3",
   "version": "3.10.4"
  }
 },
 "nbformat": 4,
 "nbformat_minor": 5
}
