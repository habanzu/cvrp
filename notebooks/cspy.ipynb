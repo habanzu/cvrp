{
 "cells": [
  {
   "cell_type": "markdown",
   "id": "975cf1f8",
   "metadata": {},
   "source": [
    "# ESPPRC cspy\n",
    "This notebook is intended to test, how to use the cspy package."
   ]
  },
  {
   "cell_type": "code",
   "execution_count": 1,
   "id": "6ab269ec",
   "metadata": {},
   "outputs": [
    {
     "ename": "ModuleNotFoundError",
     "evalue": "No module named 'src'",
     "output_type": "error",
     "traceback": [
      "\u001b[0;31m---------------------------------------------------------------------------\u001b[0m",
      "\u001b[0;31mModuleNotFoundError\u001b[0m                       Traceback (most recent call last)",
      "Input \u001b[0;32mIn [1]\u001b[0m, in \u001b[0;36m<cell line: 7>\u001b[0;34m()\u001b[0m\n\u001b[1;32m      5\u001b[0m \u001b[38;5;28;01mimport\u001b[39;00m \u001b[38;5;21;01msys\u001b[39;00m\n\u001b[1;32m      6\u001b[0m \u001b[38;5;66;03m# sys.path.insert(0,'..')\u001b[39;00m\n\u001b[0;32m----> 7\u001b[0m \u001b[38;5;28;01mimport\u001b[39;00m \u001b[38;5;21;01msrc\u001b[39;00m\u001b[38;5;21;01m.\u001b[39;00m\u001b[38;5;21;01mmodel\u001b[39;00m \u001b[38;5;28;01mas\u001b[39;00m \u001b[38;5;21;01mmodel\u001b[39;00m\n",
      "\u001b[0;31mModuleNotFoundError\u001b[0m: No module named 'src'"
     ]
    }
   ],
   "source": [
    "import cspy\n",
    "import networkx as nx\n",
    "import numpy as np\n",
    "\n",
    "import sys\n",
    "sys.path.insert(0,'..')\n",
    "import src.model as model"
   ]
  },
  {
   "cell_type": "code",
   "execution_count": null,
   "id": "a48db800",
   "metadata": {},
   "outputs": [],
   "source": [
    "G = model.create_example_1().to_directed()\n",
    "load = np.arange(G.number_of_nodes()-1)\n",
    "G.graph['n_res'] = 2\n",
    "for i in range(1,G.number_of_nodes()):\n",
    "    G.add_edge(\"Source\",i, weight=G.edges[0,i]['weight'])\n",
    "\n",
    "G.remove_edges_from(list(G.edges(0)))   \n",
    " \n",
    "for (u,v) in G.edges():\n",
    "    if 0 < v <= load.size:\n",
    "        G[u][v]['res_cost'] = np.array([G.nodes()[v][\"demand\"],0])\n",
    "    else:\n",
    "        G[u][v]['res_cost'] = np.array([0,0])\n",
    "G = nx.relabel_nodes(G,{0:\"Sink\"}) \n",
    "nx.draw(G)"
   ]
  },
  {
   "cell_type": "code",
   "execution_count": 4,
   "id": "9231caae",
   "metadata": {},
   "outputs": [
    {
     "data": {
      "text/plain": [
       "array([5, 0])"
      ]
     },
     "execution_count": 4,
     "metadata": {},
     "output_type": "execute_result"
    }
   ],
   "source": [
    "G[1][2]['res_cost']"
   ]
  },
  {
   "cell_type": "code",
   "execution_count": 5,
   "id": "7017717d",
   "metadata": {},
   "outputs": [
    {
     "name": "stdout",
     "output_type": "stream",
     "text": [
      "20\n"
     ]
    }
   ],
   "source": [
    "G.nodes()\n",
    "print(G.graph['capacity'])"
   ]
  },
  {
   "cell_type": "code",
   "execution_count": 6,
   "id": "e0e7e154",
   "metadata": {},
   "outputs": [
    {
     "name": "stdout",
     "output_type": "stream",
     "text": [
      "['Source', 8, 7, 'Sink']\n"
     ]
    },
    {
     "data": {
      "text/plain": [
       "11"
      ]
     },
     "execution_count": 6,
     "metadata": {},
     "output_type": "execute_result"
    }
   ],
   "source": [
    "alg = cspy.BiDirectional(G, [G.graph['capacity'],1], [0,0], elementary=True)\n",
    "alg.run()\n",
    "print(alg.path)\n",
    "alg.total_cost"
   ]
  },
  {
   "cell_type": "code",
   "execution_count": 7,
   "id": "9e4ca70c",
   "metadata": {},
   "outputs": [
    {
     "ename": "KeyError",
     "evalue": "49",
     "output_type": "error",
     "traceback": [
      "\u001b[0;31m---------------------------------------------------------------------------\u001b[0m",
      "\u001b[0;31mKeyError\u001b[0m                                  Traceback (most recent call last)",
      "Input \u001b[0;32mIn [7]\u001b[0m, in \u001b[0;36m<cell line: 1>\u001b[0;34m()\u001b[0m\n\u001b[0;32m----> 1\u001b[0m \u001b[43mG\u001b[49m\u001b[38;5;241;43m.\u001b[39;49m\u001b[43mnodes\u001b[49m\u001b[43m[\u001b[49m\u001b[38;5;241;43m49\u001b[39;49m\u001b[43m]\u001b[49m\n\u001b[1;32m      2\u001b[0m G\u001b[38;5;241m.\u001b[39medges[\u001b[38;5;241m49\u001b[39m,\u001b[38;5;124m\"\u001b[39m\u001b[38;5;124mSink\u001b[39m\u001b[38;5;124m\"\u001b[39m]\n",
      "File \u001b[0;32m/usr/local/Caskroom/miniconda/base/envs/cvrp/lib/python3.10/site-packages/networkx/classes/reportviews.py:193\u001b[0m, in \u001b[0;36mNodeView.__getitem__\u001b[0;34m(self, n)\u001b[0m\n\u001b[1;32m    188\u001b[0m \u001b[38;5;28;01mif\u001b[39;00m \u001b[38;5;28misinstance\u001b[39m(n, \u001b[38;5;28mslice\u001b[39m):\n\u001b[1;32m    189\u001b[0m     \u001b[38;5;28;01mraise\u001b[39;00m nx\u001b[38;5;241m.\u001b[39mNetworkXError(\n\u001b[1;32m    190\u001b[0m         \u001b[38;5;124mf\u001b[39m\u001b[38;5;124m\"\u001b[39m\u001b[38;5;132;01m{\u001b[39;00m\u001b[38;5;28mtype\u001b[39m(\u001b[38;5;28mself\u001b[39m)\u001b[38;5;241m.\u001b[39m\u001b[38;5;18m__name__\u001b[39m\u001b[38;5;132;01m}\u001b[39;00m\u001b[38;5;124m does not support slicing, \u001b[39m\u001b[38;5;124m\"\u001b[39m\n\u001b[1;32m    191\u001b[0m         \u001b[38;5;124mf\u001b[39m\u001b[38;5;124m\"\u001b[39m\u001b[38;5;124mtry list(G.nodes)[\u001b[39m\u001b[38;5;132;01m{\u001b[39;00mn\u001b[38;5;241m.\u001b[39mstart\u001b[38;5;132;01m}\u001b[39;00m\u001b[38;5;124m:\u001b[39m\u001b[38;5;132;01m{\u001b[39;00mn\u001b[38;5;241m.\u001b[39mstop\u001b[38;5;132;01m}\u001b[39;00m\u001b[38;5;124m:\u001b[39m\u001b[38;5;132;01m{\u001b[39;00mn\u001b[38;5;241m.\u001b[39mstep\u001b[38;5;132;01m}\u001b[39;00m\u001b[38;5;124m]\u001b[39m\u001b[38;5;124m\"\u001b[39m\n\u001b[1;32m    192\u001b[0m     )\n\u001b[0;32m--> 193\u001b[0m \u001b[38;5;28;01mreturn\u001b[39;00m \u001b[38;5;28;43mself\u001b[39;49m\u001b[38;5;241;43m.\u001b[39;49m\u001b[43m_nodes\u001b[49m\u001b[43m[\u001b[49m\u001b[43mn\u001b[49m\u001b[43m]\u001b[49m\n",
      "\u001b[0;31mKeyError\u001b[0m: 49"
     ]
    }
   ],
   "source": [
    "G.nodes[49]\n",
    "G.edges[49,\"Sink\"]"
   ]
  },
  {
   "cell_type": "markdown",
   "id": "fb92e214",
   "metadata": {},
   "source": [
    "## parse example"
   ]
  },
  {
   "cell_type": "code",
   "execution_count": null,
   "id": "d5db9a62",
   "metadata": {},
   "outputs": [
    {
     "name": "stdout",
     "output_type": "stream",
     "text": [
      "PARSE: Minimum number of trucks is 4\n"
     ]
    }
   ],
   "source": [
    "from parse import parse\n",
    "import random, math\n",
    "\n",
    "G = parse(\"Instances/E/E-n22-k4.vrp\")\n",
    "G = G.to_directed()\n",
    "\n",
    "G.graph['n_res'] = 2\n",
    "farkas = False\n",
    "dual = [random.randint(-10,10) for i in range(G.number_of_nodes()) ]\n",
    "\n",
    "for i in range(1,G.number_of_nodes()):\n",
    "    if farkas:\n",
    "        G.add_edge(\"Source\",i, weight= 0)\n",
    "    else:\n",
    "        G.add_edge(\"Source\",i, weight=G.edges[0,i]['weight'])\n",
    "\n",
    "G.remove_edges_from(list(G.edges(0)))\n",
    "\n",
    "for (u,v) in G.edges():\n",
    "    if farkas:\n",
    "        G[u][v]['weight'] = -dual[v-1]\n",
    "    else:\n",
    "        G[u][v]['weight'] -= dual[v-1]\n",
    "    if 0 < v :\n",
    "        G[u][v]['res_cost'] = np.array([G.nodes()[v][\"demand\"],1])\n",
    "    else:\n",
    "        G[u][v]['res_cost'] = np.array([1,1])\n",
    "\n",
    "G = nx.relabel_nodes(G,{0:\"Sink\"})\n",
    "\n",
    "# Hierfür gibt es keinen Fehler. \n",
    "# alg = cspy.BiDirectional(G, [math.ceil(G.graph['capacity'] +1 /2),G.graph['capacity'] + 1], [math.ceil(G.graph['capacity'] +1 /2)-1,0], elementary=False,direction='both')\n",
    "lg = cspy.BiDirectional(G, [G.graph['capacity'] +1,G.graph['capacity'] + 1], [0,0], elementary=False,direction='both')\n",
    "alg.run()\n",
    "path  = tuple( 0 if node == \"Source\" or node == \"Sink\" else node for node in alg.path)\n",
    "print(path)\n",
    "alg.consumed_resources"
   ]
  }
 ],
 "metadata": {
  "kernelspec": {
   "display_name": "Python 3 (ipykernel)",
   "language": "python",
   "name": "python3"
  },
  "language_info": {
   "codemirror_mode": {
    "name": "ipython",
    "version": 3
   },
   "file_extension": ".py",
   "mimetype": "text/x-python",
   "name": "python",
   "nbconvert_exporter": "python",
   "pygments_lexer": "ipython3",
   "version": "3.10.4"
  }
 },
 "nbformat": 4,
 "nbformat_minor": 5
}
