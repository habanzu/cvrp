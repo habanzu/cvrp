{
 "cells": [
  {
   "cell_type": "markdown",
   "metadata": {},
   "source": [
    "# Evaluation\n",
    "This notebook is for inspecting the data and produce the desired results. It will use dataframes to do so."
   ]
  },
  {
   "cell_type": "code",
   "execution_count": 3,
   "metadata": {},
   "outputs": [],
   "source": [
    "import matplotlib.pyplot as plt\n",
    "import pandas as pd\n",
    "import networkx as nx\n",
    "import sys, os, csv, re\n",
    "os.chdir(\"..\")\n",
    "\n",
    "# sys.path.insert(0,'..')\n",
    "import src.parse as parse\n",
    "from src.plot import plot_all, automatic_plotting"
   ]
  },
  {
   "cell_type": "code",
   "execution_count": 4,
   "metadata": {},
   "outputs": [],
   "source": [
    "files = [file.rstrip(\".vrp\") for file in os.listdir(\"Instances/Uchoa\") if (not file.endswith(\"sol\"))]\n",
    "\n",
    "methods = [\"SPPRC\",\"cyc2\",\"ng8\",\"ng20\"]"
   ]
  },
  {
   "cell_type": "code",
   "execution_count": 20,
   "metadata": {},
   "outputs": [],
   "source": [
    "dfs = {}\n",
    "data = pd.DataFrame(columns=['instance','method','terminated'])\n",
    "pattern = r\"(X-n\\d+-k\\d+)-(\\w+)\\.log\"\n",
    "for i, log in enumerate((log for log in os.listdir(\"output_uchoa\"))):\n",
    "    instance, method = re.search(pattern, log).groups()\n",
    "    log = f\"output_uchoa/{log}\"\n",
    "    finished = parse.log_finished(log)\n",
    "    data.loc[i] = [instance,method, finished]\n",
    "    if finished:\n",
    "        dfs[f'{instance}-{method}'] = parse.parse_output(log)"
   ]
  },
  {
   "cell_type": "code",
   "execution_count": 18,
   "metadata": {},
   "outputs": [
    {
     "data": {
      "text/html": [
       "<div>\n",
       "<style scoped>\n",
       "    .dataframe tbody tr th:only-of-type {\n",
       "        vertical-align: middle;\n",
       "    }\n",
       "\n",
       "    .dataframe tbody tr th {\n",
       "        vertical-align: top;\n",
       "    }\n",
       "\n",
       "    .dataframe thead th {\n",
       "        text-align: right;\n",
       "    }\n",
       "</style>\n",
       "<table border=\"1\" class=\"dataframe\">\n",
       "  <thead>\n",
       "    <tr style=\"text-align: right;\">\n",
       "      <th></th>\n",
       "      <th>instance</th>\n",
       "      <th>method</th>\n",
       "      <th>terminated</th>\n",
       "    </tr>\n",
       "  </thead>\n",
       "  <tbody>\n",
       "    <tr>\n",
       "      <th>111</th>\n",
       "      <td>X-n101-k25</td>\n",
       "      <td>cyc2</td>\n",
       "      <td>True</td>\n",
       "    </tr>\n",
       "    <tr>\n",
       "      <th>212</th>\n",
       "      <td>X-n101-k25</td>\n",
       "      <td>ng20</td>\n",
       "      <td>True</td>\n",
       "    </tr>\n",
       "    <tr>\n",
       "      <th>206</th>\n",
       "      <td>X-n101-k25</td>\n",
       "      <td>SPPRC</td>\n",
       "      <td>True</td>\n",
       "    </tr>\n",
       "    <tr>\n",
       "      <th>261</th>\n",
       "      <td>X-n101-k25</td>\n",
       "      <td>ng8</td>\n",
       "      <td>True</td>\n",
       "    </tr>\n",
       "    <tr>\n",
       "      <th>187</th>\n",
       "      <td>X-n106-k14</td>\n",
       "      <td>cyc2</td>\n",
       "      <td>True</td>\n",
       "    </tr>\n",
       "    <tr>\n",
       "      <th>...</th>\n",
       "      <td>...</td>\n",
       "      <td>...</td>\n",
       "      <td>...</td>\n",
       "    </tr>\n",
       "    <tr>\n",
       "      <th>87</th>\n",
       "      <td>X-n491-k59</td>\n",
       "      <td>cyc2</td>\n",
       "      <td>True</td>\n",
       "    </tr>\n",
       "    <tr>\n",
       "      <th>119</th>\n",
       "      <td>X-n502-k39</td>\n",
       "      <td>ng20</td>\n",
       "      <td>True</td>\n",
       "    </tr>\n",
       "    <tr>\n",
       "      <th>256</th>\n",
       "      <td>X-n502-k39</td>\n",
       "      <td>SPPRC</td>\n",
       "      <td>True</td>\n",
       "    </tr>\n",
       "    <tr>\n",
       "      <th>120</th>\n",
       "      <td>X-n502-k39</td>\n",
       "      <td>ng8</td>\n",
       "      <td>True</td>\n",
       "    </tr>\n",
       "    <tr>\n",
       "      <th>210</th>\n",
       "      <td>X-n502-k39</td>\n",
       "      <td>cyc2</td>\n",
       "      <td>True</td>\n",
       "    </tr>\n",
       "  </tbody>\n",
       "</table>\n",
       "<p>276 rows × 3 columns</p>\n",
       "</div>"
      ],
      "text/plain": [
       "       instance method  terminated\n",
       "111  X-n101-k25   cyc2        True\n",
       "212  X-n101-k25   ng20        True\n",
       "206  X-n101-k25  SPPRC        True\n",
       "261  X-n101-k25    ng8        True\n",
       "187  X-n106-k14   cyc2        True\n",
       "..          ...    ...         ...\n",
       "87   X-n491-k59   cyc2        True\n",
       "119  X-n502-k39   ng20        True\n",
       "256  X-n502-k39  SPPRC        True\n",
       "120  X-n502-k39    ng8        True\n",
       "210  X-n502-k39   cyc2        True\n",
       "\n",
       "[276 rows x 3 columns]"
      ]
     },
     "execution_count": 18,
     "metadata": {},
     "output_type": "execute_result"
    }
   ],
   "source": [
    "data.sort_values(\"instance\")"
   ]
  }
 ],
 "metadata": {
  "kernelspec": {
   "display_name": "Python 3 (ipykernel)",
   "language": "python",
   "name": "python3"
  },
  "language_info": {
   "codemirror_mode": {
    "name": "ipython",
    "version": 3
   },
   "file_extension": ".py",
   "mimetype": "text/x-python",
   "name": "python",
   "nbconvert_exporter": "python",
   "pygments_lexer": "ipython3",
   "version": "3.10.4"
  }
 },
 "nbformat": 4,
 "nbformat_minor": 4
}
