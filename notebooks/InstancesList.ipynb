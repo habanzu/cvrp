{
 "cells": [
  {
   "cell_type": "markdown",
   "id": "b619a8be",
   "metadata": {},
   "source": [
    "# Instances List\n",
    "This notebook shall create the valid list of instances for running the evaluation in multitasking."
   ]
  },
  {
   "cell_type": "code",
   "execution_count": 16,
   "id": "f4c3c14a",
   "metadata": {},
   "outputs": [],
   "source": [
    "import os\n",
    "import itertools"
   ]
  },
  {
   "cell_type": "code",
   "execution_count": 21,
   "id": "4c87958a",
   "metadata": {},
   "outputs": [
    {
     "name": "stdout",
     "output_type": "stream",
     "text": [
      "[('E-n101-k8.vrp', 'SPPRC', 0), ('E-n101-k8.vrp', 'cyc2', 0), ('E-n101-k8.vrp', 'ng8', 0), ('E-n101-k8.vrp', 'ng20', 0), ('E-n101-k8.vrp', 'ESPPRC', 0), ('E-n76-k8.vrp', 'SPPRC', 0), ('E-n76-k8.vrp', 'cyc2', 0), ('E-n76-k8.vrp', 'ng8', 0), ('E-n76-k8.vrp', 'ng20', 0), ('E-n76-k8.vrp', 'ESPPRC', 0), ('E-n22-k4.vrp', 'SPPRC', 0), ('E-n22-k4.vrp', 'cyc2', 0), ('E-n22-k4.vrp', 'ng8', 0), ('E-n22-k4.vrp', 'ng20', 0), ('E-n22-k4.vrp', 'ESPPRC', 0), ('E-n76-k10.vrp', 'SPPRC', 0), ('E-n76-k10.vrp', 'cyc2', 0), ('E-n76-k10.vrp', 'ng8', 0), ('E-n76-k10.vrp', 'ng20', 0), ('E-n76-k10.vrp', 'ESPPRC', 0), ('E-n30-k3.vrp', 'SPPRC', 0), ('E-n30-k3.vrp', 'cyc2', 0), ('E-n30-k3.vrp', 'ng8', 0), ('E-n30-k3.vrp', 'ng20', 0), ('E-n30-k3.vrp', 'ESPPRC', 0), ('E-n76-k14.vrp', 'SPPRC', 0), ('E-n76-k14.vrp', 'cyc2', 0), ('E-n76-k14.vrp', 'ng8', 0), ('E-n76-k14.vrp', 'ng20', 0), ('E-n76-k14.vrp', 'ESPPRC', 0), ('E-n51-k5.vrp', 'SPPRC', 0), ('E-n51-k5.vrp', 'cyc2', 0), ('E-n51-k5.vrp', 'ng8', 0), ('E-n51-k5.vrp', 'ng20', 0), ('E-n51-k5.vrp', 'ESPPRC', 0), ('E-n13-k4.vrp', 'SPPRC', 0), ('E-n13-k4.vrp', 'cyc2', 0), ('E-n13-k4.vrp', 'ng8', 0), ('E-n13-k4.vrp', 'ng20', 0), ('E-n13-k4.vrp', 'ESPPRC', 0), ('E-n76-k7.vrp', 'SPPRC', 0), ('E-n76-k7.vrp', 'cyc2', 0), ('E-n76-k7.vrp', 'ng8', 0), ('E-n76-k7.vrp', 'ng20', 0), ('E-n76-k7.vrp', 'ESPPRC', 0), ('E-n31-k7.vrp', 'SPPRC', 0), ('E-n31-k7.vrp', 'cyc2', 0), ('E-n31-k7.vrp', 'ng8', 0), ('E-n31-k7.vrp', 'ng20', 0), ('E-n31-k7.vrp', 'ESPPRC', 0), ('E-n101-k14.vrp', 'SPPRC', 0), ('E-n101-k14.vrp', 'cyc2', 0), ('E-n101-k14.vrp', 'ng8', 0), ('E-n101-k14.vrp', 'ng20', 0), ('E-n101-k14.vrp', 'ESPPRC', 0), ('E-n33-k4.vrp', 'SPPRC', 0), ('E-n33-k4.vrp', 'cyc2', 0), ('E-n33-k4.vrp', 'ng8', 0), ('E-n33-k4.vrp', 'ng20', 0), ('E-n33-k4.vrp', 'ESPPRC', 0), ('E-n23-k3.vrp', 'SPPRC', 0), ('E-n23-k3.vrp', 'cyc2', 0), ('E-n23-k3.vrp', 'ng8', 0), ('E-n23-k3.vrp', 'ng20', 0), ('E-n23-k3.vrp', 'ESPPRC', 0)]\n"
     ]
    }
   ],
   "source": [
    "files = [file for file in os.listdir(\"../Instances/E\") if (not file.endswith(\"sol\"))]\n",
    "methods = [\"SPPRC\",\"cyc2\",\"ng8\",\"ng20\",\"ESPPRC\"]\n",
    "test_combinations = [(file,method,0) for file, method in itertools.product(files,methods)]\n",
    "print(test_combinations)"
   ]
  }
 ],
 "metadata": {
  "kernelspec": {
   "display_name": "Python 3 (ipykernel)",
   "language": "python",
   "name": "python3"
  },
  "language_info": {
   "codemirror_mode": {
    "name": "ipython",
    "version": 3
   },
   "file_extension": ".py",
   "mimetype": "text/x-python",
   "name": "python",
   "nbconvert_exporter": "python",
   "pygments_lexer": "ipython3",
   "version": "3.10.4"
  }
 },
 "nbformat": 4,
 "nbformat_minor": 5
}
