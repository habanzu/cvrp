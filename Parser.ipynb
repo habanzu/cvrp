{
 "cells": [
  {
   "cell_type": "markdown",
   "metadata": {},
   "source": [
    "# Parser\n",
    "This notebook is intended to write a parser for the CVRP."
   ]
  },
  {
   "cell_type": "code",
   "execution_count": 1,
   "metadata": {},
   "outputs": [],
   "source": [
    "import networkx as nx"
   ]
  },
  {
   "cell_type": "code",
   "execution_count": 2,
   "metadata": {},
   "outputs": [],
   "source": [
    "source = \"E/E-n22-k4.vrp\"\n",
    "\n",
    "with open(source,'r') as f:\n",
    "    lines = f.readlines()\n",
    "    for line in f:\n",
    "        if line.startswith('DIMENSION'):\n",
    "            n = int(line.split()[-1])\n",
    "        elif line.startswith('CAPACITY'):\n",
    "            # Always an int (according to TSP LIB)\n",
    "            capacity = int(line.split()[-1])\n",
    "        elif line.startswith('EDGE_WEIGHT_TYPE'):\n",
    "            if(line.split()[-1] != \"EUC_2D\"):\n",
    "                print(\"ERROR: Wrong edge weight type.\")\n",
    "        elif line.startswith(\"NODE_COORD_SECTION\"):\n",
    "            break\n",
    "\n",
    "for i, line in enumerate(lines):\n",
    "    if line.startswith('DIMENSION'):\n",
    "        n = int(line.split()[-1])\n",
    "    elif line.startswith('CAPACITY'):\n",
    "        capacity = int(line.split()[-1])\n",
    "    elif line.startswith('EDGE_WEIGHT_TYPE'):\n",
    "        if(line.split()[-1] != \"EUC_2D\"):\n",
    "            print(\"ERROR: Wrong edge weight type.\")\n",
    "    elif line.startswith(\"NODE_COORD_SECTION\"):\n",
    "        node_coord_index = i\n",
    "    elif line.startswith(\"DEMAND_SECTION\"):\n",
    "        demand_index = i\n",
    "    elif line.startswith(\"DEPOT_SECTION\"):\n",
    "        depot_index = i"
   ]
  },
  {
   "cell_type": "code",
   "execution_count": 3,
   "metadata": {},
   "outputs": [],
   "source": [
    "# According to TSP Lib, node coords can be floats\n",
    "node_coords = map(lambda x:x.split(), lines[node_coord_index+1:node_coord_index+n+1])\n",
    "node_coords = [(float(x),float(y)) for _,x,y in node_coords]\n",
    "\n",
    "# According to TSP Lib, demands are always integers\n",
    "demands = map(lambda x:x.split(), lines[demand_index+1:demand_index+n+1])\n",
    "demands = [int(q) for _,q in demands]\n",
    "\n",
    "if int(lines[depot_index+1]) != 1 or int(lines[depot_index+2]) != -1:\n",
    "    print(\"ERROR: Depots cant be parsed.\")"
   ]
  },
  {
   "cell_type": "code",
   "execution_count": 5,
   "metadata": {},
   "outputs": [],
   "source": [
    "# Hilfsfunktion zum berechner der Kosten einer Kante\n",
    "def distance(node_1,node_2):\n",
    "    return int(((node_1[0]-node_2[0])**2 + (node_1[1]-node_2[1])**2)**0.5 + 0.5)"
   ]
  },
  {
   "cell_type": "code",
   "execution_count": 10,
   "metadata": {},
   "outputs": [],
   "source": [
    "G = nx.complete_graph(n)\n",
    "\n",
    "for (u, v) in G.edges():\n",
    "    G.edges[u,v]['weight'] = distance(node_coords[u],node_coords[v])\n",
    "    \n",
    "for node in G.nodes():\n",
    "    G.nodes()[node]['demand'] = demands[node]\n",
    "    \n",
    "nx.write_gml(G, 'test.gml')"
   ]
  }
 ],
 "metadata": {
  "kernelspec": {
   "display_name": "Python 3 (ipykernel)",
   "language": "python",
   "name": "python3"
  },
  "language_info": {
   "codemirror_mode": {
    "name": "ipython",
    "version": 3
   },
   "file_extension": ".py",
   "mimetype": "text/x-python",
   "name": "python",
   "nbconvert_exporter": "python",
   "pygments_lexer": "ipython3",
   "version": "3.10.4"
  }
 },
 "nbformat": 4,
 "nbformat_minor": 4
}
